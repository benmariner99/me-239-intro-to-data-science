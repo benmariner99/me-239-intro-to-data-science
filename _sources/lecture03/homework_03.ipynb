{
 "cells": [
  {
   "cell_type": "markdown",
   "metadata": {},
   "source": [
    "(lecture03:homework)=\n",
    "# Homework 3\n",
    "\n",
    "+ Type your name and email in the \"Student details\" section below.\n",
    "+ Develop the code and generate the figures you need to solve the problems using this notebook.\n",
    "+ For the answers that require a mathematical proof or derivation you can either:\n",
    "    \n",
    "    - Type the answer using the built-in latex capabilities. In this case, simply export the notebook as a pdf and upload it on gradescope; or\n",
    "    - You can print the notebook (after you are done with all the code), write your answers by hand, scan, turn your response to a single pdf, and upload on gradescope.\n",
    "\n",
    "+ The total homework points are 100. Please note that the problems are not weighed equally.\n",
    "\n",
    "```{note}\n",
    "+ This is due before the beginning of the next lecture.\n",
    "+ Please match all the pages corresponding to each of the questions when you submit on gradescope.\n",
    "```"
   ]
  },
  {
   "cell_type": "markdown",
   "metadata": {},
   "source": [
    "## Student details\n",
    "\n",
    "+ **First Name:**\n",
    "+ **Last Name:**\n",
    "+ **Email:**"
   ]
  },
  {
   "cell_type": "markdown",
   "metadata": {},
   "source": [
    "(lecture03:homework:problem1)=\n",
    "## Problem 1 - Playing with matrices\n",
    "\n",
    "Write Python code that constructs the 90-degree rotation matrix in 2D:\n",
    "\n",
    "$$\n",
    "A = \\begin{bmatrix}\n",
    "    \\cos(\\pi/2) &  \\sin(\\pi/2) \\\\\n",
    "    -\\sin(\\pi/2) & \\cos(\\pi/2)\n",
    "\\end{bmatrix}\n",
    "$$"
   ]
  },
  {
   "cell_type": "code",
   "execution_count": 19,
   "metadata": {},
   "outputs": [],
   "source": [
    "# your code here\n"
   ]
  },
  {
   "cell_type": "markdown",
   "metadata": {},
   "source": [
    "Verify that the matrix $A$ rotates the vector $x=\\begin{bmatrix} 1 \\\\ 0 \\end{bmatrix}$ by 90 degrees counterclockwise. That is, $A x = \\begin{bmatrix} 0 \\\\ 1 \\end{bmatrix}$."
   ]
  },
  {
   "cell_type": "code",
   "execution_count": null,
   "metadata": {},
   "outputs": [],
   "source": [
    "# your code here"
   ]
  },
  {
   "cell_type": "markdown",
   "metadata": {},
   "source": [
    "Create the matrix:\n",
    "\n",
    "$$\n",
    "B = A\\cdot A\n",
    "$$"
   ]
  },
  {
   "cell_type": "code",
   "execution_count": null,
   "metadata": {},
   "outputs": [],
   "source": [
    "# your code here"
   ]
  },
  {
   "cell_type": "markdown",
   "metadata": {},
   "source": [
    "Is $B$ a rotation matrix? What is the effect of $B$ on the vector $x$? Hint: To verify that $B$ is a rotation matrix, you need to check that $B^T\\cdot B = I$ (i.e., that $B$ is orthogonal) and that the determinant of $B$ is 1. You can use the ``np.linalg.det()`` function to compute the determinant of a matrix."
   ]
  },
  {
   "cell_type": "code",
   "execution_count": null,
   "metadata": {},
   "outputs": [],
   "source": [
    "# your code here"
   ]
  },
  {
   "cell_type": "markdown",
   "metadata": {},
   "source": [
    "Apply the matrix $B$ to the vector $x$ and verify that it rotates the vector by 180 degrees counterclockwise."
   ]
  },
  {
   "cell_type": "code",
   "execution_count": 20,
   "metadata": {},
   "outputs": [],
   "source": [
    "# your code here"
   ]
  },
  {
   "cell_type": "markdown",
   "metadata": {},
   "source": [
    "If you perform 90 degree rotation 4 times, what is the effect of the resulting matrix on the vector $x$? Verify your answer by showing that multiplying $A$ by itself 4 times results in the identity matrix."
   ]
  },
  {
   "cell_type": "code",
   "execution_count": null,
   "metadata": {},
   "outputs": [],
   "source": [
    "# your code here"
   ]
  },
  {
   "cell_type": "markdown",
   "metadata": {},
   "source": [
    "(lecture03:homework:problem2)=\n",
    "## Problem 2 - Real data set from high-performance buildings\n",
    "\n",
    "In this problem you are going to use the `pandas` library to analyze a real dataset collected as part of the NSF-funded project [Sociotechnical Systems to Enable Energy-Aware Residential Communities](https://www.energyawarecommunities.org/).\n",
    "You can find the raw dataset [here](https://github.com/PurdueMechanicalEngineering/me-239-intro-to-data-science/raw/master/data/temperature_raw.xlsx).\n",
    "\n",
    "Feel free to download it and open it up in Excel.\n",
    "\n",
    "### Uploading data files to Google Colab\n",
    "\n",
    "The first thing we are going to do in this problem is make this file accessible from this notebook. We could simply use the ``download()`` function that I introduced in the lecture. I will put the code at the very last block for your convenience.\n",
    "However, I still want to show you how you can upload your own data. Here we go.\n",
    "\n",
    "Go to your Google Drive. We need to select a folder to put the files. To keep things simple, let's just dump everything in \"My Drive/Colab Notebooks,\" i.e., the same folder that contains the copy of this Jupyter notebook which you should have already made  Once you have entered this folder in your Google Drive (just double click on it), drag and drop the `temperature_raw.xlsx` file in there.\n",
    "\n",
    "Now we need to make the Google Drive visible from this computational session. We do this by mounting the drive. You need to run this code and follow the instructions:"
   ]
  },
  {
   "cell_type": "code",
   "execution_count": null,
   "metadata": {},
   "outputs": [],
   "source": [
    "# The following code does not run unless you are running the notebook on Google Colab\n",
    "from google.colab import drive\n",
    "drive.mount('/content/drive')"
   ]
  },
  {
   "cell_type": "markdown",
   "metadata": {},
   "source": [
    "Finally, change directories so that the data files are in the current working directory:"
   ]
  },
  {
   "cell_type": "code",
   "execution_count": null,
   "metadata": {},
   "outputs": [],
   "source": [
    "# Only if you are running on Google Colab...\n",
    "# Print working directory before changing\n",
    "!pwd\n",
    "# Change to the desired directory on Google drive\n",
    "%cd \"/content/drive/My Drive/Colab Notebooks\"\n",
    "# Print working directory after changing\n",
    "!pwd\n",
    "# List the contents of the directory - Make sure it does contain the files we want:\n",
    "!ls"
   ]
  },
  {
   "cell_type": "markdown",
   "metadata": {},
   "source": [
    "Now you should have access to the file and you can **skip the next code block.**\n",
    "If you tried and something went wrong, simply run the code block below and it will put the data file in the right location for you."
   ]
  },
  {
   "cell_type": "code",
   "execution_count": 6,
   "metadata": {},
   "outputs": [
    {
     "name": "stdout",
     "output_type": "stream",
     "text": [
      "  % Total    % Received % Xferd  Average Speed   Time    Time     Time  Current\n",
      "                                 Dload  Upload   Total   Spent    Left  Speed\n",
      "  0     0    0     0    0     0      0      0 --:--:-- --:--:-- --:--:--     0\n"
     ]
    }
   ],
   "source": [
    "!curl -O https://raw.githubusercontent.com/PurdueMechanicalEngineering/me-239-intro-to-data-science/master/data/temperature_raw.xlsx"
   ]
  },
  {
   "cell_type": "markdown",
   "metadata": {},
   "source": [
    "### Loading Excel files\n",
    "\n",
    "Use the ``pd.read_excel`` function to read the `temperature_raw.xlsx` file.\n",
    "Name the data frame you read `df`."
   ]
  },
  {
   "cell_type": "code",
   "execution_count": null,
   "metadata": {},
   "outputs": [],
   "source": [
    "import pandas as pd\n",
    "df = # your code here"
   ]
  },
  {
   "cell_type": "markdown",
   "metadata": {},
   "source": [
    "### Questions\n",
    "\n",
    "Now that you have access to the data frame, let's explore it.\n",
    "Answer the following questions.\n",
    "\n",
    "+ Print the first 10 rows of the data frame `df` using the [df.head()](https://pandas.pydata.org/docs/reference/api/pandas.DataFrame.head.html) method."
   ]
  },
  {
   "cell_type": "code",
   "execution_count": null,
   "metadata": {},
   "outputs": [],
   "source": [
    "# Your code here"
   ]
  },
  {
   "cell_type": "markdown",
   "metadata": {},
   "source": [
    "+ Print the last 10 rows of the data frame `df` using the [df.tail()](https://pandas.pydata.org/docs/reference/api/pandas.DataFrame.tail.html) method."
   ]
  },
  {
   "cell_type": "code",
   "execution_count": null,
   "metadata": {},
   "outputs": [],
   "source": [
    "# Your code here"
   ]
  },
  {
   "cell_type": "markdown",
   "metadata": {},
   "source": [
    "+ Print summary statistics of the data set using the [df.describe()](https://pandas.pydata.org/docs/reference/api/pandas.DataFrame.describe.html) method."
   ]
  },
  {
   "cell_type": "code",
   "execution_count": null,
   "metadata": {},
   "outputs": [],
   "source": [
    "# Your code here"
   ]
  },
  {
   "cell_type": "markdown",
   "metadata": {},
   "source": [
    "+ Notice that there is a column called \"date\", but pandas is not aware that this is actually a date.\n",
    "Let's make it aware of that using the [pd.to_datetime()](https://pandas.pydata.org/docs/reference/api/pandas.to_datetime.html) function."
   ]
  },
  {
   "cell_type": "code",
   "execution_count": null,
   "metadata": {},
   "outputs": [],
   "source": [
    "df.date = pd.to_datetime(df['date'], format='%Y-%m-%d')"
   ]
  },
  {
   "cell_type": "markdown",
   "metadata": {},
   "source": [
    "+ Count how many NaN values you have on each column. Hint: Use the [df.isna()](https://pandas.pydata.org/docs/reference/api/pandas.DataFrame.isna.html) method to create a boolean array that is True for NaN values and False otherwise. Then, use the [sum()](https://numpy.org/doc/stable/reference/generated/numpy.sum.html) function to count the number of True values. True is equivalent to 1 and False is equivalent to 0."
   ]
  },
  {
   "cell_type": "code",
   "execution_count": null,
   "metadata": {},
   "outputs": [],
   "source": [
    "# your code here"
   ]
  },
  {
   "cell_type": "markdown",
   "metadata": {},
   "source": [
    "+ Clean the data set by dropping all NaN values. Call the cleaned data `df_clean`. Use the [df.dropna()](https://pandas.pydata.org/docs/reference/api/pandas.DataFrame.dropna.html) method."
   ]
  },
  {
   "cell_type": "code",
   "execution_count": null,
   "metadata": {},
   "outputs": [],
   "source": [
    "df_clean = # your code here"
   ]
  },
  {
   "cell_type": "markdown",
   "metadata": {},
   "source": [
    "+ Verify that there are no NaN values in `df_clean`."
   ]
  },
  {
   "cell_type": "code",
   "execution_count": null,
   "metadata": {},
   "outputs": [],
   "source": [
    "# your code here"
   ]
  },
  {
   "cell_type": "markdown",
   "metadata": {},
   "source": [
    "+ How many unique households do we have and what are their unique names? Hint: Use the [df.unique()](https://pandas.pydata.org/docs/reference/api/pandas.DataFrame.unique.html) method."
   ]
  },
  {
   "cell_type": "code",
   "execution_count": null,
   "metadata": {},
   "outputs": [],
   "source": [
    "# your code here"
   ]
  },
  {
   "cell_type": "markdown",
   "metadata": {},
   "source": [
    "+ Print summary statistics for your cleaned dataset."
   ]
  },
  {
   "cell_type": "code",
   "execution_count": null,
   "metadata": {},
   "outputs": [],
   "source": [
    "# your code here"
   ]
  },
  {
   "cell_type": "markdown",
   "metadata": {},
   "source": [
    "+ Save your cleaned dataset in a csv file using ``df_clean.to_csv``. Use the name ``temperature_clean.csv``."
   ]
  },
  {
   "cell_type": "code",
   "execution_count": null,
   "metadata": {},
   "outputs": [],
   "source": [
    "# your code here"
   ]
  },
  {
   "cell_type": "markdown",
   "metadata": {},
   "source": [
    "+ Save the cleanded data set in an Microsoft Excel format. Look at [pandas.DataFrame](https://pandas.pydata.org/docs/reference/api/pandas.DataFrame.html) for the right function. Call the file ``temperature_clean.xlsx``."
   ]
  },
  {
   "cell_type": "code",
   "execution_count": null,
   "metadata": {},
   "outputs": [],
   "source": [
    "# your code here"
   ]
  },
  {
   "cell_type": "markdown",
   "metadata": {},
   "source": [
    "+ Download the the newly created ``temperature_clean.xlsx`` file to your computer and open it up. There is no need to show something here. Just do it for your own education. If you are running the Jupyter notebook on your own computer, then there is nothing to do apart from finding the file. If you are working on Google Colab, see [this](https://stackoverflow.com/questions/48774285/how-to-download-file-created-in-colaboratory-workspace)."
   ]
  },
  {
   "cell_type": "markdown",
   "metadata": {},
   "source": []
  }
 ],
 "metadata": {
  "kernelspec": {
   "display_name": "Python 3",
   "language": "python",
   "name": "python3"
  },
  "language_info": {
   "codemirror_mode": {
    "name": "ipython",
    "version": 3
   },
   "file_extension": ".py",
   "mimetype": "text/x-python",
   "name": "python",
   "nbconvert_exporter": "python",
   "pygments_lexer": "ipython3",
   "version": "3.12.5"
  }
 },
 "nbformat": 4,
 "nbformat_minor": 4
}
