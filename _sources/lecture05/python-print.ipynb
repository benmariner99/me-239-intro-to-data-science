{
 "cells": [
  {
   "cell_type": "markdown",
   "metadata": {},
   "source": [
    "(python-print)=\n",
    "# The print function\n",
    "\n",
    "So far, we were only able to show things in the screen if we did something like this:"
   ]
  },
  {
   "cell_type": "code",
   "execution_count": 1,
   "metadata": {},
   "outputs": [
    {
     "data": {
      "text/plain": [
       "'This is a string'"
      ]
     },
     "execution_count": 1,
     "metadata": {},
     "output_type": "execute_result"
    }
   ],
   "source": [
    "x = 'This is a string'\n",
    "x"
   ]
  },
  {
   "cell_type": "markdown",
   "metadata": {},
   "source": [
    "This doesn't work in an actual Python program, however. It only works in a Jupyter notebook. But even in Jupyter notebooks, if you wanted to show more than one thing, this doesn't work. See this:"
   ]
  },
  {
   "cell_type": "code",
   "execution_count": 2,
   "metadata": {},
   "outputs": [
    {
     "data": {
      "text/plain": [
       "'This is another string'"
      ]
     },
     "execution_count": 2,
     "metadata": {},
     "output_type": "execute_result"
    }
   ],
   "source": [
    "y = 'This is another string'\n",
    "x\n",
    "y"
   ]
  },
  {
   "cell_type": "markdown",
   "metadata": {},
   "source": [
    "Only ``y`` was displayed.\n",
    "To display ``x`` and then ``y``, you need to use the ``print()`` function.\n",
    "Here it is:"
   ]
  },
  {
   "cell_type": "code",
   "execution_count": 3,
   "metadata": {},
   "outputs": [
    {
     "name": "stdout",
     "output_type": "stream",
     "text": [
      "This is a string\n",
      "This is another string\n"
     ]
    }
   ],
   "source": [
    "print(x)\n",
    "print(y)"
   ]
  },
  {
   "cell_type": "markdown",
   "metadata": {},
   "source": [
    "Just like formating, there are a lot of details in ``print()``. Here, we will be only covering the very basics.\n",
    "Let's start by printing some numerical variables:"
   ]
  },
  {
   "cell_type": "code",
   "execution_count": 4,
   "metadata": {},
   "outputs": [
    {
     "name": "stdout",
     "output_type": "stream",
     "text": [
      "123\n",
      "98.2082\n"
     ]
    }
   ],
   "source": [
    "a = 123\n",
    "b = 98.2082\n",
    "print(a)\n",
    "print(b)"
   ]
  },
  {
   "cell_type": "markdown",
   "metadata": {},
   "source": [
    "You can also print the variables one after the other:"
   ]
  },
  {
   "cell_type": "code",
   "execution_count": 5,
   "metadata": {},
   "outputs": [
    {
     "name": "stdout",
     "output_type": "stream",
     "text": [
      "123 98.2082\n"
     ]
    }
   ],
   "source": [
    "print(a, b)"
   ]
  },
  {
   "cell_type": "markdown",
   "metadata": {},
   "source": [
    "Notice that print adds an empty space between the arguments that you want to print.\n",
    "There is no limit to how many arguments print can have.\n",
    "The following also works:"
   ]
  },
  {
   "cell_type": "code",
   "execution_count": 6,
   "metadata": {},
   "outputs": [
    {
     "name": "stdout",
     "output_type": "stream",
     "text": [
      "123 98.2082 This is a string This is another string and some more\n"
     ]
    }
   ],
   "source": [
    "print(a, b, x, y, 'and some more')"
   ]
  },
  {
   "cell_type": "markdown",
   "metadata": {},
   "source": [
    "Of course when you print numerics, you probably want to do it like this:"
   ]
  },
  {
   "cell_type": "code",
   "execution_count": 7,
   "metadata": {},
   "outputs": [
    {
     "name": "stdout",
     "output_type": "stream",
     "text": [
      "a=123, b=98.21\n"
     ]
    }
   ],
   "source": [
    "print(f'a={a:d}, b={b:1.2f}')"
   ]
  },
  {
   "cell_type": "markdown",
   "metadata": {},
   "source": [
    "That is, instead of just printing ``a`` and then ``b``, you make a string with just the desired format and you print that string.\n",
    "\n",
    "Notice that ``print()`` puts a newline each time it is called.\n",
    "See this:"
   ]
  },
  {
   "cell_type": "code",
   "execution_count": 8,
   "metadata": {},
   "outputs": [
    {
     "name": "stdout",
     "output_type": "stream",
     "text": [
      "This is the first line.\n",
      "This will appear in the second line.\n"
     ]
    }
   ],
   "source": [
    "print('This is the first line.')\n",
    "print('This will appear in the second line.')"
   ]
  },
  {
   "cell_type": "markdown",
   "metadata": {},
   "source": [
    "There is a way, a special character called ``\\n`` which can be used to mark a newline in a string. When ``print()`` sees this character, then it adds a newline. See how it works:"
   ]
  },
  {
   "cell_type": "code",
   "execution_count": 9,
   "metadata": {},
   "outputs": [
    {
     "name": "stdout",
     "output_type": "stream",
     "text": [
      "This is the first line.\n",
      "This will appear in the second line.\n"
     ]
    }
   ],
   "source": [
    "print('This is the first line.\\nThis will appear in the second line.')"
   ]
  },
  {
   "cell_type": "markdown",
   "metadata": {},
   "source": [
    "Here, let me just print 5 new lines:"
   ]
  },
  {
   "cell_type": "code",
   "execution_count": 10,
   "metadata": {},
   "outputs": [
    {
     "name": "stdout",
     "output_type": "stream",
     "text": [
      "\n",
      "\n",
      "\n",
      "\n",
      "\n",
      "\n"
     ]
    }
   ],
   "source": [
    "print('\\n\\n\\n\\n\\n')"
   ]
  },
  {
   "cell_type": "markdown",
   "metadata": {},
   "source": [
    "Characters like ``\\n`` are called [special characters](https://www.w3schools.com/python/gloss_python_escape_characters.asp). In this class, we will use the ``\\t`` character very often to align what we print.\n",
    "This is called the tab character.\n",
    "Here is what it does:"
   ]
  },
  {
   "cell_type": "code",
   "execution_count": 11,
   "metadata": {},
   "outputs": [
    {
     "name": "stdout",
     "output_type": "stream",
     "text": [
      "A\tB\tC\n"
     ]
    }
   ],
   "source": [
    "print('A\\tB\\tC')"
   ]
  },
  {
   "cell_type": "markdown",
   "metadata": {},
   "source": [
    "Get it? Here is why it is useful. Let's print a table of some fake data:"
   ]
  },
  {
   "cell_type": "code",
   "execution_count": 12,
   "metadata": {},
   "outputs": [
    {
     "name": "stdout",
     "output_type": "stream",
     "text": [
      "ID\tTime (s)\tMass (kg)\t\n",
      "----------------------------------------\n",
      "0\t0.01\t\t12.20\n",
      "1\t0.02\t\t12.50\n",
      "2\t0.05\t\t13.10\n",
      "3\t0.07\t\t13.60\n",
      "4\t0.08\t\t14.20\n"
     ]
    }
   ],
   "source": [
    "print('ID\\tTime (s)\\tMass (kg)\\t')\n",
    "print('-' * 40) # Prints 40 '-'\n",
    "print(f'{0:d}\\t{0.01:1.2f}\\t\\t{12.2:1.2f}')\n",
    "print(f'{1:d}\\t{0.02:1.2f}\\t\\t{12.5:1.2f}')\n",
    "print(f'{2:d}\\t{0.05:1.2f}\\t\\t{13.1:1.2f}')\n",
    "print(f'{3:d}\\t{0.07:1.2f}\\t\\t{13.6:1.2f}')\n",
    "print(f'{4:d}\\t{0.08:1.2f}\\t\\t{14.2:1.2f}')"
   ]
  },
  {
   "cell_type": "markdown",
   "metadata": {},
   "source": [
    "Notice that I had to use two ``\\t``'s to allign the mass.\n",
    "It's probably too much to try to remember all these details.\n",
    "We will see many more examples in the hands-on activities and you will pick up certain tricks."
   ]
  },
  {
   "cell_type": "markdown",
   "metadata": {},
   "source": [
    "## Questions\n",
    "\n",
    "Here are some data:"
   ]
  },
  {
   "cell_type": "code",
   "execution_count": 13,
   "metadata": {},
   "outputs": [],
   "source": [
    "data = [23.0, 21.0, 23.0, 23.0, 23.84, 24.52]"
   ]
  },
  {
   "cell_type": "markdown",
   "metadata": {},
   "source": [
    "Use ``print()`` and formating to present the data like this:\n",
    "```\n",
    "DATA\n",
    "------\n",
    "2.3e+1\n",
    "2.1e+1\n",
    "...\n",
    "```\n",
    "etc. Then calculate the average of the data and print it with two significant digits."
   ]
  },
  {
   "cell_type": "code",
   "execution_count": 14,
   "metadata": {},
   "outputs": [],
   "source": [
    "# your code here"
   ]
  },
  {
   "cell_type": "markdown",
   "metadata": {},
   "source": []
  }
 ],
 "metadata": {
  "kernelspec": {
   "display_name": "Python 3",
   "language": "python",
   "name": "python3"
  },
  "language_info": {
   "codemirror_mode": {
    "name": "ipython",
    "version": 3
   },
   "file_extension": ".py",
   "mimetype": "text/x-python",
   "name": "python",
   "nbconvert_exporter": "python",
   "pygments_lexer": "ipython3",
   "version": "3.12.5"
  }
 },
 "nbformat": 4,
 "nbformat_minor": 4
}
