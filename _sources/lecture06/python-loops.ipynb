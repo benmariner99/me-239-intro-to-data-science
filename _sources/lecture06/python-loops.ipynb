{
 "cells": [
  {
   "cell_type": "markdown",
   "metadata": {},
   "source": [
    "(lecture06:python-loops)=\n",
    "# Python loops\n",
    "\n",
    "Loops are used when you need to run the same expression repeatedly for similar data.\n",
    "There are two kinds of loops in Python: ``for`` loops and ``while`` loops.\n",
    "\n",
    "## ``for`` loops\n",
    "\n",
    "The syntax of ``for`` loops is as follows:\n",
    "\n",
    "```\n",
    "for <variable> in <collection>:\n",
    "    # run an expression potentially using <variable>\n",
    "    # run another expression ...\n",
    "```\n",
    "The idea is that ``<collection>`` is an iterable object like a ``tuple`` or a ``list`` and that ``<variable>`` takes sequentially each one of the values in that iterable object.\n",
    "Here are a few examples:"
   ]
  },
  {
   "cell_type": "code",
   "execution_count": 1,
   "metadata": {},
   "outputs": [
    {
     "name": "stdout",
     "output_type": "stream",
     "text": [
      "x = 1\n",
      "x = 5\n",
      "x = 6\n",
      "x = 10\n",
      "x = 20\n"
     ]
    }
   ],
   "source": [
    "for x in (1, 5, 6, 10, 20):\n",
    "    print(f'x = {x:d}')"
   ]
  },
  {
   "cell_type": "code",
   "execution_count": 1,
   "metadata": {},
   "outputs": [
    {
     "name": "stdout",
     "output_type": "stream",
     "text": [
      "c = 'T'\n",
      "c = 'h'\n",
      "c = 'i'\n",
      "c = 's'\n",
      "c = ' '\n",
      "c = 'i'\n",
      "c = 's'\n",
      "c = ' '\n",
      "c = 'a'\n",
      "c = ' '\n",
      "c = 's'\n",
      "c = 't'\n",
      "c = 'r'\n",
      "c = 'i'\n",
      "c = 'n'\n",
      "c = 'g'\n"
     ]
    }
   ],
   "source": [
    "for c in 'This is a string':\n",
    "    print(f\"c = '{c}'\")"
   ]
  },
  {
   "cell_type": "markdown",
   "metadata": {},
   "source": [
    "Very often, we want to loop over all values from 0 to a given number.\n",
    "We can do this with ``range``:"
   ]
  },
  {
   "cell_type": "code",
   "execution_count": 2,
   "metadata": {},
   "outputs": [
    {
     "name": "stdout",
     "output_type": "stream",
     "text": [
      "i = 0\n",
      "i = 1\n",
      "i = 2\n",
      "i = 3\n",
      "i = 4\n",
      "i = 5\n",
      "i = 6\n",
      "i = 7\n",
      "i = 8\n",
      "i = 9\n"
     ]
    }
   ],
   "source": [
    "for i in range(10):\n",
    "    print(f'i = {i:d}')"
   ]
  },
  {
   "cell_type": "markdown",
   "metadata": {},
   "source": [
    "You don't have to start at 0:"
   ]
  },
  {
   "cell_type": "code",
   "execution_count": 3,
   "metadata": {},
   "outputs": [
    {
     "name": "stdout",
     "output_type": "stream",
     "text": [
      "i = 2\n",
      "i = 3\n",
      "i = 4\n",
      "i = 5\n",
      "i = 6\n",
      "i = 7\n",
      "i = 8\n",
      "i = 9\n"
     ]
    }
   ],
   "source": [
    "for i in range(2, 10):\n",
    "    print(f'i = {i:d}')"
   ]
  },
  {
   "cell_type": "markdown",
   "metadata": {},
   "source": [
    "And you can skip numbers:"
   ]
  },
  {
   "cell_type": "code",
   "execution_count": 6,
   "metadata": {},
   "outputs": [
    {
     "name": "stdout",
     "output_type": "stream",
     "text": [
      "i = 2\n",
      "i = 4\n",
      "i = 6\n",
      "i = 8\n"
     ]
    }
   ],
   "source": [
    "for i in range(2, 10, 2):\n",
    "    print(f'i = {i:d}')"
   ]
  },
  {
   "cell_type": "markdown",
   "metadata": {},
   "source": [
    "And you can also go backwards:"
   ]
  },
  {
   "cell_type": "code",
   "execution_count": 7,
   "metadata": {},
   "outputs": [
    {
     "name": "stdout",
     "output_type": "stream",
     "text": [
      "i = 10\n",
      "i = 9\n",
      "i = 8\n",
      "i = 7\n",
      "i = 6\n",
      "i = 5\n",
      "i = 4\n",
      "i = 3\n",
      "i = 2\n",
      "i = 1\n"
     ]
    }
   ],
   "source": [
    "for i in range(10, 0, -1):\n",
    "    print(f'i = {i:d}')"
   ]
  },
  {
   "cell_type": "markdown",
   "metadata": {},
   "source": [
    "Let's now create some data and write code to calculate the average using a `for`loop:"
   ]
  },
  {
   "cell_type": "code",
   "execution_count": 7,
   "metadata": {},
   "outputs": [],
   "source": [
    "data = [15.0, 0.25, 3.5, 5.1, 21.16]"
   ]
  },
  {
   "cell_type": "markdown",
   "metadata": {},
   "source": [
    "Recall that the average of $N$ numbers $x_1, x_2,\\dots,x_N$ is:\n",
    "\n",
    "$$\n",
    "\\bar{x} = \\frac{x_1+\\dots+x_N}{N}.\n",
    "$$\n",
    "\n",
    "Here is how we can code this with a for loop:"
   ]
  },
  {
   "cell_type": "code",
   "execution_count": 8,
   "metadata": {},
   "outputs": [
    {
     "name": "stdout",
     "output_type": "stream",
     "text": [
      "Average = 9.00\n"
     ]
    }
   ],
   "source": [
    "# The number of observations\n",
    "N = len(data)\n",
    "# A variable that stores the sum of all the x's as we go through\n",
    "# the data\n",
    "s = 0.0\n",
    "# The loop\n",
    "for i in range(len(data)):\n",
    "    x = data[i]\n",
    "    # This is just a shortcut for s = s + x\n",
    "    s += x\n",
    "average = s / N\n",
    "print(f'Average = {average:1.2f}')"
   ]
  },
  {
   "cell_type": "markdown",
   "metadata": {},
   "source": [
    "Let's compare this to the other way we have learned:"
   ]
  },
  {
   "cell_type": "code",
   "execution_count": 10,
   "metadata": {},
   "outputs": [
    {
     "name": "stdout",
     "output_type": "stream",
     "text": [
      "Average the other way = 9.00\n"
     ]
    }
   ],
   "source": [
    "print(f'Average the other way = {sum(data) / N:1.2f}')"
   ]
  },
  {
   "cell_type": "markdown",
   "metadata": {},
   "source": [
    "Okay. It worked fine. Here is another way to do the same thing. Instead of using an index, we can directly go over each element in the list like this:"
   ]
  },
  {
   "cell_type": "code",
   "execution_count": 11,
   "metadata": {},
   "outputs": [
    {
     "name": "stdout",
     "output_type": "stream",
     "text": [
      "Average = 9.00\n"
     ]
    }
   ],
   "source": [
    "s = 0.0\n",
    "for x in data:\n",
    "    s += x\n",
    "average = s / N\n",
    "print(f'Average = {average:1.2f}')"
   ]
  },
  {
   "cell_type": "markdown",
   "metadata": {},
   "source": [
    "### Questions\n",
    "\n",
    "+ Write a ``for`` loop that calculates the average of all the ``data`` elements that are greater than 5."
   ]
  },
  {
   "cell_type": "code",
   "execution_count": null,
   "metadata": {},
   "outputs": [],
   "source": [
    "# Your code here"
   ]
  },
  {
   "cell_type": "markdown",
   "metadata": {},
   "source": [
    "+ Write a ``for`` loop to calculate the second moment of the ``data``, i.e., this expression:\n",
    "\n",
    "$$\n",
    "\\bar{x}_2 = \\frac{x_1^2 + \\dots + x_N^2}{N}\n",
    "$$"
   ]
  },
  {
   "cell_type": "code",
   "execution_count": null,
   "metadata": {},
   "outputs": [],
   "source": [
    "# Your code here"
   ]
  },
  {
   "cell_type": "markdown",
   "metadata": {},
   "source": [
    "+ Write a ``for`` loop that finds the maximum of the ``data``."
   ]
  },
  {
   "cell_type": "code",
   "execution_count": null,
   "metadata": {},
   "outputs": [],
   "source": [
    "# Your code here"
   ]
  },
  {
   "cell_type": "markdown",
   "metadata": {},
   "source": [
    "##  The ``while`` loop\n",
    "\n",
    "The ``while`` loop is a bit more general than the ``for`` loop as stopping depends on a boolean expression.\n",
    "Its syntax is like this:\n",
    "```\n",
    "while <boolean_expression>:\n",
    "    # Some expressions to execute\n",
    "    # Some other epxression to execute\n",
    "```\n",
    "Let's see some examples of this:"
   ]
  },
  {
   "cell_type": "code",
   "execution_count": 12,
   "metadata": {},
   "outputs": [
    {
     "name": "stdout",
     "output_type": "stream",
     "text": [
      "i = 0\n",
      "i = 1\n",
      "i = 2\n",
      "i = 3\n",
      "i = 4\n",
      "i = 5\n",
      "i = 6\n",
      "i = 7\n",
      "i = 8\n",
      "i = 9\n"
     ]
    }
   ],
   "source": [
    "i = 0\n",
    "while i < 10:\n",
    "    print(f'i = {i:d}')\n",
    "    i += 1"
   ]
  },
  {
   "cell_type": "markdown",
   "metadata": {},
   "source": [
    "Let's do a more mathematical example.\n",
    "We are going to write code that calculates the sum of a series to a given tolerance.\n",
    "That is, given a sequence of numbers: $a_1, a_2, \\dots,$, we will write code that approximates:\n",
    "\n",
    "$$\n",
    "a = \\sum_{n=0}^\\infty a_n.\n",
    "$$\n",
    "\n",
    "To be specific, we are going to sum this series:\n",
    "\n",
    "$$\n",
    "1 - \\frac{1}{3} + \\frac{1}{5} - \\frac{1}{7} + \\dots = \\frac{\\pi}{4},\n",
    "$$\n",
    "\n",
    "and use it to approximate $\\pi$. This is known as the Leibniz formula.\n",
    "In terms of the $\\alpha_n$ notation above, the formula is:\n",
    "\n",
    "$$\n",
    "\\sum_{n=0}^\\infty a_n = \\sum_{n=0}^\\infty\\frac{(-1)^{n}}{2n + 1}.\n",
    "$$\n",
    "\n",
    "Here is our first attempt:"
   ]
  },
  {
   "cell_type": "code",
   "execution_count": 14,
   "metadata": {},
   "outputs": [
    {
     "name": "stdout",
     "output_type": "stream",
     "text": [
      "pi ~= 3.141602653490\n"
     ]
    }
   ],
   "source": [
    "# The maximum number of iterations you are willing to do:\n",
    "max_iter = 100000\n",
    "# The result\n",
    "a = 0.0\n",
    "# Start a counter\n",
    "n = 0\n",
    "# Start the loop\n",
    "while n <= max_iter:\n",
    "    # Compute the new term\n",
    "    a_n = (-1) ** n / (2 * n + 1)\n",
    "    # Add it to the sum\n",
    "    a += a_n\n",
    "    # and increase the counter\n",
    "    n += 1\n",
    "print(f'pi ~= {4 * a:1.12f}')"
   ]
  },
  {
   "cell_type": "markdown",
   "metadata": {},
   "source": [
    "Let's now make our code print something every few iterations (say every 10,000 iterations)."
   ]
  },
  {
   "cell_type": "code",
   "execution_count": 16,
   "metadata": {},
   "outputs": [
    {
     "name": "stdout",
     "output_type": "stream",
     "text": [
      "Current iteration n =          0, pi ~= 4.000000000000\n",
      "Current iteration n =      10000, pi ~= 3.141692643591\n",
      "Current iteration n =      20000, pi ~= 3.141642651090\n",
      "Current iteration n =      30000, pi ~= 3.141625985812\n",
      "Current iteration n =      40000, pi ~= 3.141617652965\n",
      "Current iteration n =      50000, pi ~= 3.141612653190\n",
      "Current iteration n =      60000, pi ~= 3.141609319979\n",
      "Current iteration n =      70000, pi ~= 3.141606939100\n",
      "Current iteration n =      80000, pi ~= 3.141605153434\n",
      "Current iteration n =      90000, pi ~= 3.141603764577\n",
      "Current iteration n =     100000, pi ~= 3.141602653490\n",
      "pi ~= 3.141602653490\n"
     ]
    }
   ],
   "source": [
    "# The maximum number of iterations you are willing to do:\n",
    "max_iter = 100000\n",
    "# The result\n",
    "a = 0.0\n",
    "# Start a counter\n",
    "n = 0\n",
    "# Start the loop\n",
    "while n <= max_iter:\n",
    "    # Compute the new term\n",
    "    a_n = (-1) ** n / (2 * n + 1)\n",
    "    # Add it to the sum\n",
    "    a += a_n\n",
    "    # Print something about the current iteration\n",
    "    if n % 10000 == 0:\n",
    "        print(f'Current iteration n = {n:10d}, pi ~= {4 * a:1.12f}')\n",
    "    # and increase the counter\n",
    "    n += 1\n",
    "print(f'pi ~= {4 * a:1.12f}')"
   ]
  },
  {
   "cell_type": "markdown",
   "metadata": {},
   "source": [
    "We are going to end with a final modification: a convergence test.\n",
    "We are going to modify the code so that it loops over $n$ until \n",
    "\n",
    "$$\n",
    "|a_{n+1}| < \\epsilon,\n",
    "$$,\n",
    "\n",
    "where $\\epsilon$ is a small positive number typically called a *tolerance*.\n",
    "We can test for this condition using an ``if`` statement.\n",
    "But how can we stop the loop when this condition is met?\n",
    "We can do this by using the ``break`` command.\n",
    "The ``break`` command exits the loop immediately (note that it also works in ``for`` loops).\n",
    "Here we go:"
   ]
  },
  {
   "cell_type": "code",
   "execution_count": 19,
   "metadata": {},
   "outputs": [
    {
     "name": "stdout",
     "output_type": "stream",
     "text": [
      "Current iteration n =          0, pi ~= 4.000000000000\n",
      "Current iteration n =     100000, pi ~= 3.141602653490\n",
      "Current iteration n =     200000, pi ~= 3.141597653565\n",
      "Current iteration n =     300000, pi ~= 3.141595986912\n",
      "Current iteration n =     400000, pi ~= 3.141595153583\n",
      "*** Converged in 500001 iterations! ***\n",
      "pi ~= 3.141590653590\n"
     ]
    }
   ],
   "source": [
    "max_iter = 10000000\n",
    "epsilon = 1e-6\n",
    "n = 0\n",
    "a = 0.0\n",
    "while n <= max_iter:\n",
    "    a_n = (-1) ** n / (2 * n + 1)\n",
    "    if abs(a_n) < epsilon:\n",
    "        print(f'*** Converged in {n+1:d} iterations! ***')\n",
    "        break\n",
    "    a += a_n\n",
    "    if n % 100000 == 0:\n",
    "        print(f'Current iteration n = {n:10d}, pi ~= {4 * a:1.12f}')\n",
    "    n += 1\n",
    "if n == max_iter + 1:\n",
    "    print(f'*** Stopped when maximum number of iterations ({max_iter:d}) were reached! ***')\n",
    "print(f'pi ~= {4 * a:1.12f}')"
   ]
  },
  {
   "cell_type": "markdown",
   "metadata": {},
   "source": [
    "### Questions\n",
    "\n",
    "+ Modify the code above so that you estimate the series:\n",
    "\n",
    "$$\n",
    "\\sum_{n=0}^\\infty\\frac{1}{2^n},\n",
    "$$\n",
    "\n",
    "which converges to $2$."
   ]
  },
  {
   "cell_type": "markdown",
   "metadata": {},
   "source": []
  }
 ],
 "metadata": {
  "kernelspec": {
   "display_name": "Python 3",
   "language": "python",
   "name": "python3"
  },
  "language_info": {
   "codemirror_mode": {
    "name": "ipython",
    "version": 3
   },
   "file_extension": ".py",
   "mimetype": "text/x-python",
   "name": "python",
   "nbconvert_exporter": "python",
   "pygments_lexer": "ipython3",
   "version": "3.12.5"
  }
 },
 "nbformat": 4,
 "nbformat_minor": 4
}
