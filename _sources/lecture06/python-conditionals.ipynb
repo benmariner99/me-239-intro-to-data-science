{
 "cells": [
  {
   "cell_type": "markdown",
   "metadata": {},
   "source": [
    "(lecture06:python-conditionals)=\n",
    "# Python conditionals\n",
    "\n",
    "Conditional statements give you a way to change the flow of a Python program depending on the result of a boolean expression.\n",
    "\n",
    "(lecture06:boolean-expressions)=\n",
    "## Bolean expressions\n",
    "Let's first see what are boolean expressions.\n",
    "Boolean expressions are Python expressions that return either True of False.\n",
    "The simplest ones are:"
   ]
  },
  {
   "cell_type": "code",
   "execution_count": 1,
   "metadata": {},
   "outputs": [
    {
     "data": {
      "text/plain": [
       "True"
      ]
     },
     "execution_count": 1,
     "metadata": {},
     "output_type": "execute_result"
    }
   ],
   "source": [
    "True"
   ]
  },
  {
   "cell_type": "code",
   "execution_count": 2,
   "metadata": {},
   "outputs": [
    {
     "data": {
      "text/plain": [
       "False"
      ]
     },
     "execution_count": 2,
     "metadata": {},
     "output_type": "execute_result"
    }
   ],
   "source": [
    "False"
   ]
  },
  {
   "cell_type": "markdown",
   "metadata": {},
   "source": [
    "But here are some more:"
   ]
  },
  {
   "cell_type": "code",
   "execution_count": 3,
   "metadata": {},
   "outputs": [
    {
     "data": {
      "text/plain": [
       "False"
      ]
     },
     "execution_count": 3,
     "metadata": {},
     "output_type": "execute_result"
    }
   ],
   "source": [
    "1 > 2"
   ]
  },
  {
   "cell_type": "code",
   "execution_count": 4,
   "metadata": {},
   "outputs": [
    {
     "data": {
      "text/plain": [
       "True"
      ]
     },
     "execution_count": 4,
     "metadata": {},
     "output_type": "execute_result"
    }
   ],
   "source": [
    "25.0 <= 25.1"
   ]
  },
  {
   "cell_type": "code",
   "execution_count": 5,
   "metadata": {},
   "outputs": [
    {
     "data": {
      "text/plain": [
       "True"
      ]
     },
     "execution_count": 5,
     "metadata": {},
     "output_type": "execute_result"
    }
   ],
   "source": [
    "5 == 5"
   ]
  },
  {
   "cell_type": "markdown",
   "metadata": {},
   "source": [
    "Or with variables:"
   ]
  },
  {
   "cell_type": "code",
   "execution_count": 6,
   "metadata": {},
   "outputs": [
    {
     "data": {
      "text/plain": [
       "True"
      ]
     },
     "execution_count": 6,
     "metadata": {},
     "output_type": "execute_result"
    }
   ],
   "source": [
    "x = 'This is a string.'\n",
    "len(x) > 10"
   ]
  },
  {
   "cell_type": "markdown",
   "metadata": {},
   "source": [
    "Here are a few things with strings:"
   ]
  },
  {
   "cell_type": "code",
   "execution_count": 7,
   "metadata": {},
   "outputs": [
    {
     "data": {
      "text/plain": [
       "True"
      ]
     },
     "execution_count": 7,
     "metadata": {},
     "output_type": "execute_result"
    }
   ],
   "source": [
    "x == 'This is a string.'"
   ]
  },
  {
   "cell_type": "code",
   "execution_count": 8,
   "metadata": {},
   "outputs": [
    {
     "data": {
      "text/plain": [
       "False"
      ]
     },
     "execution_count": 8,
     "metadata": {},
     "output_type": "execute_result"
    }
   ],
   "source": [
    "x == 'This is a st'"
   ]
  },
  {
   "cell_type": "code",
   "execution_count": 9,
   "metadata": {},
   "outputs": [
    {
     "data": {
      "text/plain": [
       "True"
      ]
     },
     "execution_count": 9,
     "metadata": {},
     "output_type": "execute_result"
    }
   ],
   "source": [
    "'This' < 'This is'"
   ]
  },
  {
   "cell_type": "markdown",
   "metadata": {},
   "source": [
    "So, what can you put in a boolean expression?\n",
    "Well, anything that can be evaluated to either True or False.\n",
    "This is quite general, but very often we use the following building components:\n",
    "\n",
    "- ``>``: greater than\n",
    "- ``>=``: greater than or equal to\n",
    "- ``==``: equal to\n",
    "- ``<`` less than\n",
    "- ``<=`` less than or equal to\n",
    "- ``not`` gives you the opposite of whatever boolean expression follows\n",
    "- ``or`` True if any of the boolean expressions to the left or to the right are True\n",
    "- ``and`` True if both of the boolean expressions to the left and to the right are True\n",
    "\n",
    "You absolutely have to remember all these!!!"
   ]
  },
  {
   "cell_type": "markdown",
   "metadata": {},
   "source": [
    "(lecture06-if-statement)=\n",
    "## The simplest ``if``-statement\n",
    "Now, let's look at the simplest conditional statement.\n",
    "It's syntax is as follows:\n",
    "```python\n",
    "if <boolean_expression>:\n",
    "    # Expressions that run if the bolean_expression is True\n",
    "```\n",
    "That's it. Let's try it:"
   ]
  },
  {
   "cell_type": "code",
   "execution_count": 12,
   "metadata": {},
   "outputs": [
    {
     "name": "stdout",
     "output_type": "stream",
     "text": [
      "The string x has less than 20 characters.\n"
     ]
    }
   ],
   "source": [
    "x = 'Sort string'\n",
    "if len(x) <= 20:\n",
    "    print('The string x has less than 20 characters.')"
   ]
  },
  {
   "cell_type": "markdown",
   "metadata": {},
   "source": [
    "The following does not print anything for the default `x` because the boolean expression is False:"
   ]
  },
  {
   "cell_type": "code",
   "execution_count": 14,
   "metadata": {},
   "outputs": [],
   "source": [
    "if not len(x) <= 20:\n",
    "    print('The string x does not have less than 20 characters.')"
   ]
  },
  {
   "cell_type": "markdown",
   "metadata": {},
   "source": [
    "And here is a somewhat more complicated boolean expression:"
   ]
  },
  {
   "cell_type": "code",
   "execution_count": 15,
   "metadata": {},
   "outputs": [
    {
     "name": "stdout",
     "output_type": "stream",
     "text": [
      "The string x have between 10 and 30 characters.\n"
     ]
    }
   ],
   "source": [
    "if len(x) >= 10 and len(x) <= 30:\n",
    "    print('The string x have between 10 and 30 characters.')"
   ]
  },
  {
   "cell_type": "markdown",
   "metadata": {},
   "source": [
    "### Questions\n",
    "+ Change the string ``x`` in the code block above so that nothing is printed in the first ``if`` and something is printed in the second if."
   ]
  },
  {
   "cell_type": "markdown",
   "metadata": {},
   "source": [
    "## Be careful of white spaces\n",
    "\n",
    "```{note}\n",
    "In Python, the empty spaces below if are very important when you have multiple expressions.\n",
    "```\n",
    "\n",
    "Here is an example that works:"
   ]
  },
  {
   "cell_type": "code",
   "execution_count": 16,
   "metadata": {},
   "outputs": [
    {
     "name": "stdout",
     "output_type": "stream",
     "text": [
      "The string x has less than 20 characters.\n",
      "And this is an additional line.\n"
     ]
    }
   ],
   "source": [
    "if len(x) <= 20:\n",
    "    print('The string x has less than 20 characters.')\n",
    "    print('And this is an additional line.')"
   ]
  },
  {
   "cell_type": "markdown",
   "metadata": {},
   "source": [
    "Here is an example that doesn't work because the white spaces are not aligned:"
   ]
  },
  {
   "cell_type": "code",
   "execution_count": 18,
   "metadata": {
    "tags": [
     "raises-exception"
    ]
   },
   "outputs": [
    {
     "ename": "IndentationError",
     "evalue": "unindent does not match any outer indentation level (<tokenize>, line 3)",
     "output_type": "error",
     "traceback": [
      "\u001b[0;36m  File \u001b[0;32m\"<tokenize>\"\u001b[0;36m, line \u001b[0;32m3\u001b[0m\n\u001b[0;31m    print('And this is an additional line.')\u001b[0m\n\u001b[0m    ^\u001b[0m\n\u001b[0;31mIndentationError\u001b[0m\u001b[0;31m:\u001b[0m unindent does not match any outer indentation level\n"
     ]
    }
   ],
   "source": [
    "if len(x) <= 20:\n",
    "    print('The string x has less than 20 characters.')\n",
    "  print('And this is an additional line.')"
   ]
  },
  {
   "cell_type": "markdown",
   "metadata": {},
   "source": [
    "By the way, I am using four spaces below ``if``'s. It doesn't matter how many spaces you use as soon as you are consistent.\n",
    "For example, here is the same code with just one space:"
   ]
  },
  {
   "cell_type": "code",
   "execution_count": 19,
   "metadata": {},
   "outputs": [
    {
     "name": "stdout",
     "output_type": "stream",
     "text": [
      "The string x has less than 20 characters.\n",
      "And this is an additional line.\n"
     ]
    }
   ],
   "source": [
    "if len(x) <= 20:\n",
    " print('The string x has less than 20 characters.')\n",
    " print('And this is an additional line.')"
   ]
  },
  {
   "cell_type": "markdown",
   "metadata": {},
   "source": [
    "The best practice (and what Jupyter is trying to do by default) is to use a tab or 4 white spaces."
   ]
  },
  {
   "cell_type": "markdown",
   "metadata": {},
   "source": [
    "(lecture06-if-else-statement)=\n",
    "## The ``if-else`` statement\n",
    "\n",
    "Some times you want to test for a boolean expression and run something else if it is false.\n",
    "You can do this with the ``if-else`` statement:\n",
    "```\n",
    "if <boolean_expression>:\n",
    "    # Expressions that run if the bolean_expression is True\n",
    "else:\n",
    "    # Expressions n to run if the boolean_expression is False\n",
    "```\n",
    "Let's try it:"
   ]
  },
  {
   "cell_type": "code",
   "execution_count": 20,
   "metadata": {},
   "outputs": [
    {
     "name": "stdout",
     "output_type": "stream",
     "text": [
      "The string x has less than 20 characters.\n"
     ]
    }
   ],
   "source": [
    "x = 'Sort string'\n",
    "if len(x) <= 20:\n",
    "    print('The string x has less than 20 characters.')\n",
    "else:\n",
    "    print('The string x does not have less than 20 characters.')"
   ]
  },
  {
   "cell_type": "markdown",
   "metadata": {},
   "source": [
    "### Questions\n",
    "\n",
    "- Change ``x`` in the code block above so that the expressions after else run."
   ]
  },
  {
   "cell_type": "markdown",
   "metadata": {},
   "source": [
    "(lecture06-if-elif-else)=\n",
    "## The ``if-elif-else`` statement\n",
    "\n",
    "Sometimes you want to test for multiple boolean expressions.\n",
    "You can do this using the ``if-elif-else`` statement:\n",
    "```\n",
    "if <boolean_expression>:\n",
    "    # Expressions that run if the bolean_expression is True\n",
    "elif <other_boolean_expression>:\n",
    "    # Expressions that run if the other_bolean_expression is True\n",
    "    # if boolean_expression is False\n",
    "else:\n",
    "    # Expressions n to run otherwise\n",
    "```\n",
    "An example:"
   ]
  },
  {
   "cell_type": "code",
   "execution_count": 21,
   "metadata": {},
   "outputs": [
    {
     "name": "stdout",
     "output_type": "stream",
     "text": [
      "The string x has less than 20 characters.\n"
     ]
    }
   ],
   "source": [
    "x = 'Sort string'\n",
    "if len(x) <= 20:\n",
    "    print('The string x has less than 20 characters.')\n",
    "elif len(x) <= 30:\n",
    "    print('The string x has between than 21 and 30 characters.')\n",
    "else:\n",
    "    print('The string x has more than 30 characters.')"
   ]
  },
  {
   "cell_type": "markdown",
   "metadata": {},
   "source": [
    "Note that you can have as many ``elif``'s as you want and that ``else`` is always optional.\n",
    "\n",
    "## Questions\n",
    "- Change the string ``x`` in the above code block so that the ``elif`` expression runs.\n",
    "- Change the string ``x`` in the above code block so that the ``else`` expression runs.\n",
    "- Add one more ``elif`` to test if ``len(x) <= 40``. Modify the ``print()`` statements accordingly."
   ]
  },
  {
   "cell_type": "markdown",
   "metadata": {},
   "source": []
  }
 ],
 "metadata": {
  "celltoolbar": "Tags",
  "kernelspec": {
   "display_name": "Python 3",
   "language": "python",
   "name": "python3"
  },
  "language_info": {
   "codemirror_mode": {
    "name": "ipython",
    "version": 3
   },
   "file_extension": ".py",
   "mimetype": "text/x-python",
   "name": "python",
   "nbconvert_exporter": "python",
   "pygments_lexer": "ipython3",
   "version": "3.8.8"
  }
 },
 "nbformat": 4,
 "nbformat_minor": 4
}
