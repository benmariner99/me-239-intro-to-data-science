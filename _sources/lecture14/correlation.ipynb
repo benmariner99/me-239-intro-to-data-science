{
 "cells": [
  {
   "cell_type": "markdown",
   "id": "7dd8af9f",
   "metadata": {},
   "source": [
    "(lecture14:correlation)=\n",
    "\n",
    "# Correlation between two random variables\n",
    "\n",
    "The covariance between two random variables $X$ and $Y$, $\\mathbf{C}[X,Y]$, is not an absolute measure.\n",
    "As a matter of fact the covariance has units of $X$ times $Y$.\n",
    "So, if you change the units of $X$ and $Y$, the covariance will change.\n",
    "Changing units of $X$ is like defining a new random variable:\n",
    "\n",
    "$$\n",
    "X' = \\lambda X.\n",
    "$$\n",
    "\n",
    "The covariance between $X'$ and $Y$ would be:\n",
    "\n",
    "$$\n",
    "\\mathbf{C}[X',Y] = \\mathbf{E}[(X'-\\mu_{X'})(Y-\\mu_Y)] = \\mathbf{E}[(\\lambda X - \\lambda \\mu_X)(Y-\\mu_Y)] = \\lambda \\mathbf{E}[(X-\\mu_X)(Y-\\mu_Y)] = \\lambda \\mathbf{C}[X,Y]. \n",
    "$$\n",
    "\n",
    "As an example, imagine that $X$ was measured in meters and you wanted to change it units to centimeters.\n",
    "Then $\\lambda = 100$ and $X'=100X$.\n",
    "The covariance between the new variable $X'$ and $Y$ would be 100 times bigger!\n",
    "As I said, the covariance is not an absolute measure.\n",
    "\n",
    "How can we fix this?\n",
    "Well, we fix it using the concept of correlation.\n",
    "\n",
    "## Mathematical definition of the correlation coefficient\n",
    "\n",
    "The correlation coefficient between two random variables $X$ and $Y$ is defined to be the covariance between the two random variables divided by the product of their standard deviations, i.e,\n",
    "\n",
    "$$\n",
    "\\rho(X,Y) = \\frac{\\mathbf{C}[X,Y]}{\\sigma_X\\sigma_Y}.\n",
    "$$\n",
    "\n",
    "where\n",
    "\n",
    "$$\n",
    "\\sigma_X = \\sqrt{\\mathbf{V}[X]},\n",
    "$$\n",
    "\n",
    "and\n",
    "\n",
    "$$\n",
    "\\sigma_Y = \\sqrt{\\mathbf{V}[Y]}.\n",
    "$$\n",
    "\n",
    "Alright, let's see why this is a good measure by looking closely at some of its properties.\n",
    "\n",
    "### Property 1: The correlation coefficient remains unchanged when you change the units of the random variables\n",
    "\n",
    "Okay, this sounds good.\n",
    "Take the example we gave above:\n",
    "\n",
    "$$\n",
    "X' = \\lambda X.\n",
    "$$\n",
    "\n",
    "We have already shown that:\n",
    "\n",
    "$$\n",
    "\\mathbf{C}[X', Y] = \\mathbf{C}[\\lambda X, Y] = \\lambda\\mathbf{C}[X,Y].\n",
    "$$\n",
    "\n",
    "Notice that:\n",
    "\n",
    "$$\n",
    "\\sigma_{X'} = \\sqrt{\\mathbf{V}[X']} = \\sqrt{\\mathbf{V}[\\lambda X]} = \n",
    "\\sqrt{\\lambda^2\\mathbf{V}[X]} = \\lambda\\sqrt{\\mathbf{V}[X]} = \\lambda\\sigma_X.\n",
    "$$\n",
    "\n",
    "So, we have:\n",
    "\n",
    "$$\n",
    "\\begin{split}\n",
    "\\rho(X', Y) &= \\frac{\\mathbf{C}[X',Y]}{\\sigma_{X'}\\sigma_Y}\\\\\n",
    "&= \\frac{\\lambda \\mathbf{C}[X,Y]}{\\lambda\\sigma_{X}\\sigma_Y}\\\\\n",
    "&= \\frac{\\mathbf{C}[X,Y]}{\\sigma_{X}\\sigma_Y}\\\\\n",
    "&= \\rho(X,Y).\n",
    "\\end{split}\n",
    "$$\n",
    "\n",
    "That's it. The correlation coefficient has absolute meaning.\n",
    "\n",
    "## Property 2: Two independent random variables have zero correlation\n",
    "\n",
    "This follows directly from the fact that the covariance between two independent random variables is zero.\n",
    "\n",
    "## Property 3: The maximum possible correlation between two random variables is one\n",
    "\n",
    "This is nice!\n",
    "Why does it hold?\n",
    "Take a random variable $X$.\n",
    "What is the random variable $Y$ that is the most correlated with $X$?\n",
    "Well, can you think of something more correlated than $Y=X$?\n",
    "I don't think so...\n",
    "Let's see what correlation coefficient we get when we plug in $Y=X$:\n",
    "\n",
    "$$\n",
    "\\begin{split}\n",
    "\\rho(X,X) &= \\frac{\\mathbf{C}[X,X]}{\\sigma_X\\sigma_X}\\\\\n",
    "&= \\frac{\\mathbf{E}[(X-\\mu_X)(X-\\mu_X)]}{\\sigma_X^2}\\\\\n",
    "&= \\frac{\\mathbf{E}[(X-\\mu_X)^2]}{\\sigma_X^2}\\\\\n",
    "&= \\frac{\\mathbf{V}[X]}{\\sigma_X^2}\\\\\n",
    "&= \\frac{\\sigma_X^2}{\\sigma_X^2}\\\\\n",
    "&= 1.\n",
    "\\end{split}\n",
    "$$\n",
    "\n",
    "Great! By the way, notice that we also showed that the covariance of a random variable with itself is the variance...\n",
    "\n",
    "## Property 4: The minimum possible correlation between two random variables is minus one\n",
    "\n",
    "This property is proved in a similar manner the previous one.\n",
    "What is the random variable $Y$ that is most negatively correlated with $X$?\n",
    "It is $Y=-X$.\n",
    "If you plug this in the correlation formula, you will get:\n",
    "\n",
    "$$\n",
    "\\rho(X,-X) = -1.\n",
    "$$\n",
    "\n",
    "## Summarizing the properties of the correlation\n",
    "\n",
    "So, the correlation is a much better measure than the covariance when you want to assess how tow random variables vary together.\n",
    "You have the following possibilities.\n",
    "\n",
    "+ If the correlation is zero, then the two random variables are uncorrelated. This doesn't mean that they are independent though. It just means that they may be indpendent. We will elaborate on this later.\n",
    "+ The closer the correlation coefficient is to plus one, the more positively correlated the random variables are.\n",
    "+ The closer the correlation coefficient is to minus one, the more negatively correlated the random variables are.\n",
    "\n",
    "## Empirical estimation of the correlation coefficient\n",
    "\n",
    "I have already told you how you can estimate the covariance.\n",
    "We can already estimate the standard deviations with averages:\n",
    "\n",
    "$$\n",
    "\\hat{\\sigma}_X = \\sqrt{\\frac{1}{N}(x_i-\\hat{\\mu}_X)^2},\n",
    "$$\n",
    "\n",
    "and\n",
    "\n",
    "$$\n",
    "\\hat{\\sigma}_Y = \\sqrt{\\frac{1}{N}(y_i-\\hat{\\mu}_Y)^2}.\n",
    "$$\n",
    "\n",
    "So, our estimate for the correlation coefficient is:\n",
    "\n",
    "$$\n",
    "\\hat{\\rho}_{X,Y} = \\frac{\\hat{\\sigma}_{X,Y}}{\\hat{\\sigma}_X\\hat{\\sigma}_Y}.\n",
    "$$\n",
    "\n",
    "## Example: Correlation between `t_out` and `hvac` during heating, cooling, and off\n",
    "\n",
    "Let's now calculate the estimate we developed for the correlation coefficient in the smart buildings dataset.\n",
    "In particular, we are going to estimate the correlation coefficient between $X=$`t_out` and $Y=$`hvac` for the three regions considered.\n",
    "\n",
    "Again, we do not have to calculate it by hand.\n",
    "We can use built-in functionality of [`np.corrcoef`](https://numpy.org/doc/stable/reference/generated/numpy.corrcoef.html).\n",
    "Here is how.\n",
    "We start with cooling."
   ]
  },
  {
   "cell_type": "code",
   "execution_count": 4,
   "id": "264831f2",
   "metadata": {
    "tags": [
     "hide-input",
     "hide-output"
    ]
   },
   "outputs": [
    {
     "name": "stdout",
     "output_type": "stream",
     "text": [
      "  % Total    % Received % Xferd  Average Speed   Time    Time     Time  Current\n",
      "                                 Dload  Upload   Total   Spent    Left  Speed\n",
      "100  277k  100  277k    0     0  1045k      0 --:--:-- --:--:-- --:--:-- 1048k\n"
     ]
    }
   ],
   "source": [
    "# The url of the file we want to download\n",
    "url = 'https://raw.githubusercontent.com/PurdueMechanicalEngineering/me-297-intro-to-data-science/master/data/temperature_raw.xlsx'\n",
    "!curl -O $url\n",
    "\n",
    "import numpy as np\n",
    "import pandas as pd\n",
    "\n",
    "df = pd.read_excel('temperature_raw.xlsx')\n",
    "df = df.dropna(axis=0)\n",
    "df.head()\n",
    "df_heating = df[df['t_out'] < 60]\n",
    "df_cooling = df[df['t_out'] > 70]\n",
    "df_off = df[(df['t_out'] >= 60) & (df['t_out'] <= 70)]"
   ]
  },
  {
   "cell_type": "code",
   "execution_count": 11,
   "id": "100b53fc",
   "metadata": {},
   "outputs": [
    {
     "name": "stdout",
     "output_type": "stream",
     "text": [
      "[[1.         0.24617791]\n",
      " [0.24617791 1.        ]]\n"
     ]
    }
   ],
   "source": [
    "rho = np.corrcoef(df_cooling['t_out'], df_cooling['hvac'])\n",
    "print(rho)"
   ]
  },
  {
   "cell_type": "markdown",
   "id": "1cd383a6",
   "metadata": {},
   "source": [
    "Notice that this is a matrix as well.\n",
    "It has the same format as the matrix returned by `np.cov`:\n",
    "+ `rho[0, 0]` is the correlation coefficient between the first input (0 = `t_out`) and the first input (0 = `t_out`). So it has to be one always.\n",
    "+ `rho[1, 1]` is the correlation coefficient between the second input (1 = `hvac`) and the second input (1 = `hvac`). Again, it is always one.\n",
    "+ `rho[0, 1]` is the correlation coefficient between the first input (0 = `t_out`) and the second input (1 = `hvac`).\n",
    "+ `rho[1, 0]` is the correlation coefficient between the second input (1 = `hvac`) and the first input (0 = `t_out`). This is because the correlation coefficient is also symmetric.\n",
    "\n",
    "Okay. Here is what we were after:"
   ]
  },
  {
   "cell_type": "code",
   "execution_count": 6,
   "id": "b618b813",
   "metadata": {},
   "outputs": [
    {
     "name": "stdout",
     "output_type": "stream",
     "text": [
      "rho['t_out', 'hvac'|cooling] = 0.25\n"
     ]
    }
   ],
   "source": [
    "print(f\"rho['t_out', 'hvac'|cooling] = {rho[0, 1]:1.2f}\")"
   ]
  },
  {
   "cell_type": "markdown",
   "id": "14c3a4ba",
   "metadata": {},
   "source": [
    "Nice and positive. But not very close to one.\n",
    "\n",
    "Now let's do heating:"
   ]
  },
  {
   "cell_type": "code",
   "execution_count": 8,
   "id": "05df1c1d",
   "metadata": {},
   "outputs": [
    {
     "name": "stdout",
     "output_type": "stream",
     "text": [
      "rho['t_out', 'hvac'|heating] = -0.45\n"
     ]
    }
   ],
   "source": [
    "rho = np.corrcoef(df_heating['t_out'], df_heating['hvac'])\n",
    "print(f\"rho['t_out', 'hvac'|heating] = {rho[0, 1]:1.2f}\")"
   ]
  },
  {
   "cell_type": "markdown",
   "id": "132dbeaf",
   "metadata": {},
   "source": [
    "This is negative as expected.\n",
    "And it is much closer to the minimum possible value (-1) than the cooling correlation coefficient is to the maximum value (+1).\n",
    "\n",
    "Finally, let's do the off setting:"
   ]
  },
  {
   "cell_type": "code",
   "execution_count": 10,
   "id": "b3079fbf",
   "metadata": {},
   "outputs": [
    {
     "name": "stdout",
     "output_type": "stream",
     "text": [
      "rho['t_out', 'hvac'|off] = -0.03\n"
     ]
    }
   ],
   "source": [
    "rho = np.corrcoef(df_off['t_out'], df_off['hvac'])\n",
    "print(f\"rho['t_out', 'hvac'|off] = {rho[0, 1]:1.2f}\")"
   ]
  },
  {
   "cell_type": "markdown",
   "id": "8668add9",
   "metadata": {},
   "source": [
    "This is tiny and it makes sense because the HVAC system is off during off setting."
   ]
  },
  {
   "cell_type": "markdown",
   "id": "29cf3027",
   "metadata": {},
   "source": []
  }
 ],
 "metadata": {
  "celltoolbar": "Tags",
  "kernelspec": {
   "display_name": "Python 3",
   "language": "python",
   "name": "python3"
  },
  "language_info": {
   "codemirror_mode": {
    "name": "ipython",
    "version": 3
   },
   "file_extension": ".py",
   "mimetype": "text/x-python",
   "name": "python",
   "nbconvert_exporter": "python",
   "pygments_lexer": "ipython3",
   "version": "3.12.5"
  }
 },
 "nbformat": 4,
 "nbformat_minor": 5
}
