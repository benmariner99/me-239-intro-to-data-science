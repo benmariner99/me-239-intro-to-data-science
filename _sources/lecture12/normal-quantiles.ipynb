{
 "cells": [
  {
   "cell_type": "markdown",
   "id": "0e6a7768",
   "metadata": {},
   "source": [
    "(lecture12:normal-quantiles)=\n",
    "# Quantiles of the Normal\n",
    "\n",
    "Now take a Normal:\n",
    "\n",
    "$$\n",
    "X \\sim N(\\mu, \\sigma^2),\n",
    "$$\n",
    "\n",
    "and let $F(x) = p(X \\le x)$ be its CDF.\n",
    "The $q$-quantile of $X$ is defined through the solution of the non-linear equation:\n",
    "\n",
    "$$\n",
    "F(x_q) = q.\n",
    "$$\n",
    "\n",
    "Recall that we have managed to express the Normal CDF $F(x)$ in terms of the standard Normal CDF $\\Phi(z)$:\n",
    "\n",
    "$$\n",
    "F(x) = \\Phi\\left(\\frac{x-\\mu}{\\sigma}\\right).\n",
    "$$\n",
    "\n",
    "We can use this to express $x_q$ in terms of $z_q$, i.e., the $q$-quantile of the standard Normal.\n",
    "We have by substitution in the defining equation of $x_q$:\n",
    "\n",
    "$$\n",
    "\\Phi\\left(\\frac{x_q-\\mu}{\\sigma}\\right) = q.\n",
    "$$\n",
    "\n",
    "By comparing to the defining equation of $z_q$,\n",
    "\n",
    "$$\n",
    "\\Phi(z_q) = q,\n",
    "$$\n",
    "\n",
    "we get that:\n",
    "\n",
    "$$\n",
    "z_q = \\frac{x_q - \\mu}{\\sigma},\n",
    "$$\n",
    "\n",
    "or, in terms of $x_q$:\n",
    "\n",
    "$$\n",
    "x_q = \\mu + \\sigma z_q.\n",
    "$$\n",
    "\n",
    "Alright, so if we know the $q$-quantiles of the standard Normal we can get the $q$-quantiles of a Normal.\n",
    "The median is trival:\n",
    "\n",
    "$$\n",
    "x_{0.5} = \\mu,\n",
    "$$\n",
    "\n",
    "since $z_{0.5}$.\n",
    "\n",
    "The $0.025$-quantile is:\n",
    "\n",
    "$$\n",
    "x_{0.025} \\approx \\mu - 1.96\\sigma \\approx \\mu - 2\\sigma.\n",
    "$$\n",
    "\n",
    "And the $0.975$-quantile is:\n",
    "\n",
    "$$\n",
    "x_{0.975} \\approx \\mu + 1.96\\sigma \\approx \\mu + 2 \\sigma.\n",
    "$$\n",
    "\n",
    "So, we can say (95% central credible interval):\n",
    "\n",
    "> $X$ is between $\\mu - 2\\sigma$ and $\\mu + 2\\sigma$ with 95% probability.\n",
    "\n",
    "Similarly, we can find the $0.001$-quantile:\n",
    "\n",
    "$$\n",
    "x_{0.001} \\approx \\mu - 3.09 \\sigma \\approx = \\mu - 3\\sigma,\n",
    "$$\n",
    "\n",
    "and the $0.999$-quantile:\n",
    "\n",
    "$$\n",
    "x_{0.999} \\approx \\mu + 3.09\\sigma \\approx = \\mu + 3 \\sigma,\n",
    "$$\n",
    "\n",
    "which we can use to say (99.8% central credible interval):\n",
    "\n",
    "> $X$ is between $\\mu - 3\\sigma$ and $\\mu + 3 \\sigma$ with 99.8% probability.\n",
    "\n",
    "These are good things to remember, but even if you don't, you can still use `scipy.stats` to find quantile and central credible intervals of any Normal:"
   ]
  },
  {
   "cell_type": "code",
   "execution_count": 2,
   "id": "da262ee2",
   "metadata": {},
   "outputs": [
    {
     "name": "stdout",
     "output_type": "stream",
     "text": [
      "X is between 1.08 and 8.92 with probability 95%\n",
      "Compare to the interval found through the standard normal\n",
      "** X is between 1.08 and 8.92 with probability 95%\n"
     ]
    }
   ],
   "source": [
    "import scipy.stats as st\n",
    "mu = 5\n",
    "sigma = 2\n",
    "X = st.norm(loc=mu, scale=sigma)\n",
    "x_025 = X.ppf(0.025)\n",
    "x_975 = X.ppf(0.975)\n",
    "print(f'X is between {x_025:1.2f} and {x_975:1.2f} with probability 95%')\n",
    "print('Compare to the interval found through the standard normal')\n",
    "print(f'** X is between {mu - sigma * 1.96:1.2f} and {mu + sigma * 1.96:1.2f} with probability 95%')"
   ]
  },
  {
   "cell_type": "markdown",
   "id": "5b60cb4e",
   "metadata": {},
   "source": [
    "## Questions\n",
    "\n",
    "+ Modify the code above to find the 99.8% quantile of $X$."
   ]
  },
  {
   "cell_type": "code",
   "execution_count": null,
   "id": "17f542ec",
   "metadata": {},
   "outputs": [],
   "source": []
  }
 ],
 "metadata": {
  "kernelspec": {
   "display_name": "Python 3",
   "language": "python",
   "name": "python3"
  },
  "language_info": {
   "codemirror_mode": {
    "name": "ipython",
    "version": 3
   },
   "file_extension": ".py",
   "mimetype": "text/x-python",
   "name": "python",
   "nbconvert_exporter": "python",
   "pygments_lexer": "ipython3",
   "version": "3.12.5"
  }
 },
 "nbformat": 4,
 "nbformat_minor": 5
}
