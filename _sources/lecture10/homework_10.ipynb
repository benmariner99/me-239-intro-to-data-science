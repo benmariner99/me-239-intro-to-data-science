{
 "cells": [
  {
   "cell_type": "markdown",
   "id": "da6547ac",
   "metadata": {},
   "source": [
    "(lecture10:homework)=\n",
    "# Homework 10\n",
    "\n",
    "+ Type your name and email in the \"Student details\" section below.\n",
    "+ Develop the code and generate the figures you need to solve the problems using this notebook.\n",
    "+ For the answers that require a mathematical proof or derivation you can either:\n",
    "    \n",
    "    - Type the answer using the built-in latex capabilities. In this case, simply export the notebook as a pdf and upload it on gradescope; or\n",
    "    - You can print the notebook (after you are done with all the code), write your answers by hand, scan, turn your response to a single pdf, and upload on gradescope.\n",
    "\n",
    "+ The total homework points are 100. Please note that the problems are not weighed equally.\n",
    "\n",
    "```{note}\n",
    "+ This is due before the beginning of the next lecture.\n",
    "+ Please match all the pages corresponding to each of the questions when you submit on gradescope.\n",
    "```"
   ]
  },
  {
   "cell_type": "markdown",
   "id": "56b3c508",
   "metadata": {},
   "source": [
    "## Student details\n",
    "\n",
    "+ **First Name:**\n",
    "+ **Last Name:**\n",
    "+ **Email:**"
   ]
  },
  {
   "cell_type": "code",
   "execution_count": null,
   "id": "75d78b1c",
   "metadata": {
    "tags": [
     "hide-input",
     "hide-output"
    ]
   },
   "outputs": [],
   "source": [
    "import matplotlib.pyplot as plt\n",
    "%matplotlib inline\n",
    "import seaborn as sns\n",
    "sns.set(rc={\"figure.dpi\":100, 'savefig.dpi':300})\n",
    "sns.set_context('notebook')\n",
    "sns.set_style(\"ticks\")\n",
    "from IPython.display import set_matplotlib_formats\n",
    "set_matplotlib_formats('retina', 'svg')\n",
    "import numpy as np\n",
    "import scipy.stats as st"
   ]
  },
  {
   "cell_type": "markdown",
   "id": "b55f7d89",
   "metadata": {},
   "source": [
    "(lecture10:homework:problem1)=\n",
    "## Problem 1 - An alternative way to construct the generalized uniform distribution $U([a,b])$\n",
    "\n",
    "Let $Z$ be a standard uniform random variable:\n",
    "\n",
    "$$\n",
    "Z\\sim U([0,1]).\n",
    "$$\n",
    "\n",
    "Define the random variable:\n",
    "\n",
    "$$\n",
    "X = a + (b-a) Z.\n",
    "$$\n",
    "\n",
    "+ Show that:\n",
    "\n",
    "$$\n",
    "X\\sim U([a,b]).\n",
    "$$\n",
    "\n",
    "Hint: Prove that the CDF of $X$ is $F_X(x) = p(X\\le x) = \\frac{x-a}{b-a}$. This is one line."
   ]
  },
  {
   "cell_type": "markdown",
   "id": "ca86cbae",
   "metadata": {},
   "source": [
    "**Answer:**\n",
    "<br><br><br><br><br><br><br><br>"
   ]
  },
  {
   "cell_type": "markdown",
   "id": "3834a21b",
   "metadata": {},
   "source": [
    "+ The function `numpy.random.rand` gives you uniform random samples in $[0, 1]$.\n",
    "Take 1,000 such samples and transform them to uniform samples in $[-1, 5]$.\n",
    "Hint: Fill in the missing code below."
   ]
  },
  {
   "cell_type": "code",
   "execution_count": null,
   "id": "f63c4fdc",
   "metadata": {},
   "outputs": [],
   "source": [
    "a = -1\n",
    "b = 5\n",
    "z = np.random.rand(1000)\n",
    "x = # Your code here"
   ]
  },
  {
   "cell_type": "markdown",
   "id": "f6e6680d",
   "metadata": {},
   "source": [
    "Test if you are getting the right answer by doing the histogram of your samples (it should be almost flat between -1 and 5):"
   ]
  },
  {
   "cell_type": "code",
   "execution_count": null,
   "id": "65e8a78d",
   "metadata": {},
   "outputs": [],
   "source": [
    "fig, ax = plt.subplots()\n",
    "ax.hist(x, density=True, alpha=0.5)\n",
    "ax.set_xlabel('$x$')\n",
    "ax.set_ylabel('$p(x)$');"
   ]
  },
  {
   "cell_type": "markdown",
   "id": "31024b31",
   "metadata": {},
   "source": [
    "(lecture10:homework:problem2)=\n",
    "# Problem 2 - The Exponential distribution\n",
    "\n",
    "The Exponential distribution models the probability distribution of the time between events which occur [continuously and independently at a constant rate](https://en.wikipedia.org/wiki/Exponential_distribution).\n",
    "Examples of such a situation are:\n",
    "+ The time between phone calls in a help center.\n",
    "+ The time between the arrival of cars at a toll station.\n",
    "+ The time between the arrival of customers.\n",
    "+ The time between two earthquakes.\n",
    "+ The time between two micrometeoroid impacts on an Moon research base.\n",
    "+ The time between faults in a mechanical system. However, this is a gross approximation because the rate of faults in a mechanical system increases with time, it is not constant.\n",
    "\n",
    "We write:\n",
    "\n",
    "$$\n",
    "T \\sim \\text{Exp}(\\lambda),\n",
    "$$\n",
    "\n",
    "and we read:\n",
    "\n",
    "> $T$ follows an Exponential distribution with rate parameter $\\lambda$.\n",
    "\n",
    "The rate parameter $\\lambda$ is positive and has units of inverse time.\n",
    "You can think of $\\lambda$ as the number of events per unit of time.\n",
    "\n",
    "The CDF of the Exponential is:\n",
    "\n",
    "$$\n",
    "F(t) = \\begin{cases}\n",
    "0,& t < 0,\\\\\n",
    "1 - e^{-\\lambda t},& t \\ge 0.\n",
    "\\end{cases}\n",
    "$$"
   ]
  },
  {
   "cell_type": "markdown",
   "id": "adaba74a",
   "metadata": {},
   "source": [
    "+ Prove mathematically that the PDF of the random variable $T$ is:\n",
    "\n",
    "$$\n",
    "p(t) = \\lambda e^{-\\lambda t}.\n",
    "$$\n",
    "\n",
    "Hint: Use one of the properties of the PDF."
   ]
  },
  {
   "cell_type": "markdown",
   "id": "97d9cde3",
   "metadata": {},
   "source": [
    "**Answer:**\n",
    "<br><br><br><br><br><br><br><br>"
   ]
  },
  {
   "cell_type": "markdown",
   "id": "996e5045",
   "metadata": {},
   "source": [
    "+ [Micrometeoroids](https://en.wikipedia.org/wiki/Micrometeoroid) make space exploration very challenging.\n",
    "Even though the mass of these projectiles is very small (less than 1 gram), they move with a very high-velocity \n",
    "(of the order of 10 km per second) and thus they are will be gradually degrading the protective layers of deep space habitats.\n",
    "For a Moon base with an area of 1000 squared meters, the rate of micrometeoroid impacts is about:\n",
    "\n",
    "$$\n",
    "\\lambda = 3\\times 10^{-6}\\;\\text{s}^{-1}.\n",
    "$$\n",
    "\n",
    "Read the [scipy.stats.expon](https://docs.scipy.org/doc/scipy/reference/generated/scipy.stats.expon.html) documentation and make an Exponential random variable $T$ with this rate:"
   ]
  },
  {
   "cell_type": "code",
   "execution_count": null,
   "id": "177a20bc",
   "metadata": {},
   "outputs": [],
   "source": [
    "# You cannot use lambda because it is a reserved word.\n",
    "# Call the rate lam instead:\n",
    "lam = 3e-6 # in inverse seconds\n",
    "T = st.expon(scale= # PICK THE RIGHT VALUE HERE\n",
    "             )"
   ]
  },
  {
   "cell_type": "markdown",
   "id": "b6b4660e",
   "metadata": {},
   "source": [
    "+ Take 1000 samples from the random variable you just constructed and draw their histogram.\n"
   ]
  },
  {
   "cell_type": "code",
   "execution_count": null,
   "id": "2359386f",
   "metadata": {},
   "outputs": [],
   "source": [
    "# Your code here"
   ]
  },
  {
   "cell_type": "markdown",
   "id": "b6dcb150",
   "metadata": {},
   "source": [
    "+ Plot the CDF of $T$:"
   ]
  },
  {
   "cell_type": "code",
   "execution_count": null,
   "id": "26fa86fa",
   "metadata": {},
   "outputs": [],
   "source": [
    "# Your code here"
   ]
  },
  {
   "cell_type": "markdown",
   "id": "bd8b8cd1",
   "metadata": {},
   "source": [
    "+ Find the probability that we have a micrometeoroid impact within a day.\n",
    "Hint: Remember that the units of $T$ are seconds."
   ]
  },
  {
   "cell_type": "code",
   "execution_count": null,
   "id": "20d63e5b",
   "metadata": {},
   "outputs": [],
   "source": [
    "# Your code here"
   ]
  },
  {
   "cell_type": "markdown",
   "id": "fbb2f9d1",
   "metadata": {},
   "source": [
    "+ Plot the PDF of T."
   ]
  },
  {
   "cell_type": "code",
   "execution_count": null,
   "id": "e4a5274c",
   "metadata": {},
   "outputs": [],
   "source": [
    "# Your code here"
   ]
  }
 ],
 "metadata": {
  "celltoolbar": "Tags",
  "kernelspec": {
   "display_name": "Python 3",
   "language": "python",
   "name": "python3"
  },
  "language_info": {
   "codemirror_mode": {
    "name": "ipython",
    "version": 3
   },
   "file_extension": ".py",
   "mimetype": "text/x-python",
   "name": "python",
   "nbconvert_exporter": "python",
   "pygments_lexer": "ipython3",
   "version": "3.8.8"
  }
 },
 "nbformat": 4,
 "nbformat_minor": 5
}
