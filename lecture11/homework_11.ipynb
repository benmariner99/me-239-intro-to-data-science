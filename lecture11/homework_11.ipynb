{
 "cells": [
  {
   "cell_type": "markdown",
   "id": "a976f823",
   "metadata": {},
   "source": [
    "(lecture11:homework)=\n",
    "# Homework 11\n",
    "\n",
    "+ Type your name and email in the \"Student details\" section below.\n",
    "+ Develop the code and generate the figures you need to solve the problems using this notebook.\n",
    "+ For the answers that require a mathematical proof or derivation you can either:\n",
    "    \n",
    "    - Type the answer using the built-in latex capabilities. In this case, simply export the notebook as a pdf and upload it on gradescope; or\n",
    "    - You can print the notebook (after you are done with all the code), write your answers by hand, scan, turn your response to a single pdf, and upload on gradescope.\n",
    "\n",
    "+ The total homework points are 100. Please note that the problems are not weighed equally.\n",
    "\n",
    "```{note}\n",
    "+ Please match all the pages corresponding to each of the questions when you submit on gradescope.\n",
    "```"
   ]
  },
  {
   "cell_type": "markdown",
   "id": "538e7317",
   "metadata": {},
   "source": [
    "## Student details\n",
    "\n",
    "+ **First Name:**\n",
    "+ **Last Name:**\n",
    "+ **Email:**"
   ]
  },
  {
   "cell_type": "code",
   "execution_count": 1,
   "id": "8ed5c197",
   "metadata": {
    "tags": [
     "hide-input",
     "hide-output"
    ]
   },
   "outputs": [],
   "source": [
    "import matplotlib.pyplot as plt\n",
    "%matplotlib inline\n",
    "import seaborn as sns\n",
    "sns.set(rc={\"figure.dpi\":100, 'savefig.dpi':300})\n",
    "sns.set_context('notebook')\n",
    "sns.set_style(\"ticks\")\n",
    "from IPython.display import set_matplotlib_formats\n",
    "set_matplotlib_formats('retina', 'svg')\n",
    "import numpy as np\n",
    "import scipy.stats as st"
   ]
  },
  {
   "cell_type": "markdown",
   "id": "94a98a81",
   "metadata": {},
   "source": [
    "(lecture11:homework:problem1)=\n",
    "## Problem 1 - Calculating expectations for discrete random variables\n",
    "\n",
    "Consider the Categorical random variable $X \\sim \\text{Categorical}(0.2, 0.4, 0.4)$ taking three discrete values $1, 2,$ and $3$.\n",
    "Find the numerical answer for the following.\n",
    "Hint: You can do it by hand or write some code. It is up to you.\n",
    "\n",
    "+ $\\mathbf{E}[X] = ?$"
   ]
  },
  {
   "cell_type": "markdown",
   "id": "94abb120",
   "metadata": {},
   "source": [
    "**Answer:**\n",
    "<br><br><br><br><br><br><br><br>"
   ]
  },
  {
   "cell_type": "code",
   "execution_count": null,
   "id": "fda39963",
   "metadata": {},
   "outputs": [],
   "source": [
    "# Your code here"
   ]
  },
  {
   "cell_type": "markdown",
   "id": "03485a2d",
   "metadata": {},
   "source": [
    "+ $\\mathbf{E}[X^2] = ?$"
   ]
  },
  {
   "cell_type": "markdown",
   "id": "7659262c",
   "metadata": {},
   "source": [
    "**Answer:**\n",
    "<br><br><br><br><br><br><br><br>"
   ]
  },
  {
   "cell_type": "code",
   "execution_count": null,
   "id": "181f2031",
   "metadata": {},
   "outputs": [],
   "source": [
    "# Your code here"
   ]
  },
  {
   "cell_type": "markdown",
   "id": "429a8aa2",
   "metadata": {},
   "source": [
    "+ $\\mathbf{V}[X] = ?$"
   ]
  },
  {
   "cell_type": "markdown",
   "id": "d29bfd48",
   "metadata": {},
   "source": [
    "**Answer:**\n",
    "<br><br><br><br><br><br><br><br>"
   ]
  },
  {
   "cell_type": "code",
   "execution_count": null,
   "id": "c791d57f",
   "metadata": {},
   "outputs": [],
   "source": [
    "# Your code here"
   ]
  },
  {
   "cell_type": "markdown",
   "id": "0ef8dfec",
   "metadata": {},
   "source": [
    "+ $\\mathbf{E}[e^X] = ?$"
   ]
  },
  {
   "cell_type": "markdown",
   "id": "b312c525",
   "metadata": {},
   "source": [
    "**Answer:**\n",
    "<br><br><br><br><br><br><br><br>"
   ]
  },
  {
   "cell_type": "code",
   "execution_count": null,
   "id": "6b7313da",
   "metadata": {},
   "outputs": [],
   "source": [
    "# Your code here"
   ]
  },
  {
   "cell_type": "markdown",
   "id": "17171080",
   "metadata": {},
   "source": [
    "(lecture11:homework:problem2)=\n",
    "## Problem 2 - Calculate the expectation and variance of a continuous random variable\n",
    "\n",
    "Take an exponential random variable, see [Problem 2 of Homework 10](lecture10:homework:problem2),\n",
    "with rate parameter $\\lambda$:\n",
    "\n",
    "$$\n",
    "T \\sim \\text{Exp}(\\lambda).\n",
    "$$\n",
    "\n",
    "The PDF of the exponential is:\n",
    "\n",
    "$$\n",
    "p(t) = \\lambda e^{-\\lambda t},\n",
    "$$\n",
    "\n",
    "for $t\\ge 0$ and zero otherwise.\n",
    "\n",
    "+ Prove mathematically that $\\mathbf{E}[T] = \\lambda^{-1}$. Hint: You need to do the integral $\\int_0^\\infty tp(t)dt$ using [integration by parts](https://en.wikipedia.org/wiki/Integration_by_parts)."
   ]
  },
  {
   "cell_type": "markdown",
   "id": "99e7af72",
   "metadata": {},
   "source": [
    "**Answer:**\n",
    "<br><br><br><br><br><br><br><br>"
   ]
  },
  {
   "cell_type": "markdown",
   "id": "6c23fc77",
   "metadata": {},
   "source": [
    "+ Prove mathematically that $\\mathbf{V}[T] = \\lambda^{-2}$. Hint: Use integration by parts to find $\\mathbf{E}[T^2]=\\int_0^\\infty t^2 p(t)dt$ and then use one of the properties of the variance."
   ]
  },
  {
   "cell_type": "markdown",
   "id": "9d9f8bb4",
   "metadata": {},
   "source": [
    "**Answer:**\n",
    "<br><br><br><br><br><br><br><br>"
   ]
  },
  {
   "cell_type": "markdown",
   "id": "e6cb1609",
   "metadata": {},
   "source": [
    "(lecture11:homework:problem3)=\n",
    "## Problem 3 - Properties of expectations\n",
    "\n",
    "Let $X$ be a random variable with expectation $\\mathbf{E}[X] = 3$ and variance $\\mathbf{V}[X] = 2$.\n",
    "Calculate the following expressions.\n",
    "\n",
    "+ $\\mathbf{E}[4X] = ?$"
   ]
  },
  {
   "cell_type": "markdown",
   "id": "731ea555",
   "metadata": {},
   "source": [
    "**Answer:**\n",
    "<br><br><br><br><br><br><br><br>"
   ]
  },
  {
   "cell_type": "markdown",
   "id": "f048344a",
   "metadata": {},
   "source": [
    "+ $\\mathbf{E}[X + 2] = ?$"
   ]
  },
  {
   "cell_type": "markdown",
   "id": "ea1e2c3f",
   "metadata": {},
   "source": [
    "**Answer:**\n",
    "<br><br><br><br><br><br><br><br>"
   ]
  },
  {
   "cell_type": "markdown",
   "id": "f5988210",
   "metadata": {},
   "source": [
    "+ $\\mathbf{E}[3X + 1] = ?$"
   ]
  },
  {
   "cell_type": "markdown",
   "id": "e0f455f5",
   "metadata": {},
   "source": [
    "**Answer:**\n",
    "<br><br><br><br><br><br><br><br>"
   ]
  },
  {
   "cell_type": "markdown",
   "id": "d48aeb0e",
   "metadata": {},
   "source": [
    "+ $\\mathbf{V}[5X] = ?$"
   ]
  },
  {
   "cell_type": "markdown",
   "id": "9ed53dfc",
   "metadata": {},
   "source": [
    "**Answer:**\n",
    "<br><br><br><br><br><br><br><br>"
   ]
  },
  {
   "cell_type": "markdown",
   "id": "c0ae7ddb",
   "metadata": {},
   "source": [
    "+ $\\mathbf{V}[X + 3] = ?$"
   ]
  },
  {
   "cell_type": "markdown",
   "id": "6d64a561",
   "metadata": {},
   "source": [
    "**Answer:**\n",
    "<br><br><br><br><br><br><br><br>"
   ]
  },
  {
   "cell_type": "markdown",
   "id": "39313d3d",
   "metadata": {},
   "source": [
    "+ $\\mathbf{V}[2X + 1] = ?$"
   ]
  },
  {
   "cell_type": "markdown",
   "id": "55185319",
   "metadata": {},
   "source": [
    "**Answer:**\n",
    "<br><br><br><br><br><br><br><br>"
   ]
  },
  {
   "cell_type": "markdown",
   "id": "b7d23490",
   "metadata": {},
   "source": [
    "+ $\\mathbf{E}[X^2] = ?$"
   ]
  },
  {
   "cell_type": "markdown",
   "id": "0b37a478",
   "metadata": {},
   "source": [
    "**Answer:**\n",
    "<br><br><br><br><br><br><br><br>"
   ]
  },
  {
   "cell_type": "markdown",
   "id": "73a6033b",
   "metadata": {},
   "source": [
    "Run the following code to convert the notebook to a pdf. Verify that the file path to the notebook is correct."
   ]
  },
  {
   "cell_type": "code",
   "execution_count": null,
   "id": "835a37b8",
   "metadata": {},
   "outputs": [],
   "source": [
    "from google.colab import drive\n",
    "drive.mount('/content/drive')\n",
    "!apt-get install inkscape texlive texlive-xetex texlive-latex-extra pandoc --quiet\n",
    "!pip install pypandoc --quiet\n",
    "!jupyter nbconvert --to PDF '/content/drive/MyDrive/Colab Notebooks/Copy of homework_11.ipynb'"
   ]
  }
 ],
 "metadata": {
  "celltoolbar": "Tags",
  "kernelspec": {
   "display_name": "Python 3",
   "language": "python",
   "name": "python3"
  },
  "language_info": {
   "codemirror_mode": {
    "name": "ipython",
    "version": 3
   },
   "file_extension": ".py",
   "mimetype": "text/x-python",
   "name": "python",
   "nbconvert_exporter": "python",
   "pygments_lexer": "ipython3",
   "version": "3.8.8"
  }
 },
 "nbformat": 4,
 "nbformat_minor": 5
}
