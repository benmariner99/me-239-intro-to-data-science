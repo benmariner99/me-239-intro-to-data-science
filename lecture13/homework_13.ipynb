{
 "cells": [
  {
   "cell_type": "markdown",
   "id": "1f8b7867",
   "metadata": {},
   "source": [
    "(lecture13:homework)=\n",
    "# Homework 13\n",
    "\n",
    "+ Type your name and email in the \"Student details\" section below.\n",
    "+ Develop the code and generate the figures you need to solve the problems using this notebook.\n",
    "+ For the answers that require a mathematical proof or derivation you can either:\n",
    "    \n",
    "    - Type the answer using the built-in latex capabilities. In this case, simply export the notebook as a pdf and upload it on gradescope; or\n",
    "    - You can print the notebook (after you are done with all the code), write your answers by hand, scan, turn your response to a single pdf, and upload on gradescope.\n",
    "\n",
    "+ The total homework points are 100. Please note that the problems are not weighed equally.\n",
    "\n",
    "```{note}\n",
    "+ Please match all the pages corresponding to each of the questions when you submit on gradescope.\n",
    "```"
   ]
  },
  {
   "cell_type": "markdown",
   "id": "098a82b2",
   "metadata": {},
   "source": [
    "## Student details\n",
    "\n",
    "+ **First Name:**\n",
    "+ **Last Name:**\n",
    "+ **Email:**"
   ]
  },
  {
   "cell_type": "code",
   "execution_count": null,
   "id": "c0e9e006",
   "metadata": {
    "tags": [
     "hide-input",
     "hide-output"
    ]
   },
   "outputs": [],
   "source": [
    "import matplotlib.pyplot as plt\n",
    "%matplotlib inline\n",
    "import seaborn as sns\n",
    "sns.set(rc={\"figure.dpi\":100, 'savefig.dpi':300})\n",
    "sns.set_context('notebook')\n",
    "sns.set_style(\"ticks\")\n",
    "from IPython.display import set_matplotlib_formats\n",
    "set_matplotlib_formats('retina', 'svg')\n",
    "import numpy as np\n",
    "import scipy.stats as st"
   ]
  },
  {
   "cell_type": "markdown",
   "id": "d9ed0291",
   "metadata": {},
   "source": [
    "## Problem 1 - Maximum likelihood estimate of an Exponential random variable\n",
    "\n",
    "You are managing toll station and your job is to come up with a probabilistic model for the time that passes between car arrivals.\n",
    "You have at your disposal data:\n",
    "\n",
    "$$\n",
    "T_{1:N} = (t_1, t_2, \\dots, t_N).\n",
    "$$\n",
    "\n",
    "Here $t_1$ is the time that passed until the first event, $t_2$ is the time that passed from the first event to the second, and so on.\n",
    "You decide to model these random time intervals using an Exponential distribution with uknown rate parameter $\\lambda$, i.e.,\n",
    "\n",
    "$$\n",
    "T_i | \\lambda \\sim \\text{Exponential}(\\lambda).\n",
    "$$\n",
    "\n",
    "In terms of the PDF:\n",
    "\n",
    "$$\n",
    "p(t_i | \\lambda) = \\lambda e^{-\\lambda t_i}.\n",
    "$$\n",
    "\n",
    "You have decided to use maximum likelihood to fit the parameter $\\lambda$.\n",
    "Answer the following questions:\n",
    "\n",
    "+ Find the mathematical form of the likelihood of the data $p(t_{1:N}|\\lambda)$."
   ]
  },
  {
   "cell_type": "markdown",
   "id": "fe81cc79",
   "metadata": {},
   "source": [
    "**Answer:**\n",
    "<br><br><br><br><br><br>"
   ]
  },
  {
   "cell_type": "markdown",
   "id": "e6e24185",
   "metadata": {},
   "source": [
    "+ Find the mathematical form of the log-likelihood $J(\\lambda) = \\log p(t_{1:N}|\\lambda)$."
   ]
  },
  {
   "cell_type": "markdown",
   "id": "ed4e1235",
   "metadata": {},
   "source": [
    "**Answer:**\n",
    "<br><br><br><br><br><br>"
   ]
  },
  {
   "cell_type": "markdown",
   "id": "ed79dc1f",
   "metadata": {},
   "source": [
    "+ Take the derivative $\\frac{dJ(\\lambda)}{d\\lambda}$ of $J(\\lambda)$ with respect to $\\lambda$."
   ]
  },
  {
   "cell_type": "markdown",
   "id": "47ff8432",
   "metadata": {},
   "source": [
    "**Answer:**\n",
    "<br><br><br><br><br><br>"
   ]
  },
  {
   "cell_type": "markdown",
   "id": "dbe7db0b",
   "metadata": {},
   "source": [
    "+ Find the MLE $\\hat{\\lambda}$ by solving the equation $\\frac{dJ(\\lambda)}{d\\lambda} = 0$ for $\\lambda$."
   ]
  },
  {
   "cell_type": "markdown",
   "id": "020c3bfe",
   "metadata": {},
   "source": [
    "**Answer:**\n",
    "<br><br><br><br><br><br>"
   ]
  },
  {
   "cell_type": "markdown",
   "id": "b48ff686",
   "metadata": {},
   "source": [
    "## Problem 2 - Failure of a mechanical component\n",
    "\n",
    "Assume that you designing a gear for a mechanical system.\n",
    "Under normal operating conditions the gear is expected to fail at a random time.\n",
    "Let $T$ be a random variable capturing the time the gear fails.\n",
    "What should the probability density of $T$ look like?\n",
    "Well, when the gear is brand new, the probability density should be close to zero because a new gear does not fail under normal opearating conditions.\n",
    "As time goes by, the probability density should increase because various things start happening to the material, e.g., crack formation, fatigue, etc. \n",
    "Finally, the probability density must again start going to zero as time further increases because nothing lasts forever...\n",
    "A probability distribution that is commonly used to model this situation is the [Weibull](https://en.wikipedia.org/wiki/Weibull_distribution).\n",
    "We are going to fit some fail time data to a Weibull distribution and then you will have to answer a few questions about failing times."
   ]
  },
  {
   "cell_type": "code",
   "execution_count": null,
   "id": "ef2cf13a",
   "metadata": {},
   "outputs": [],
   "source": [
    "# Time to fail in years under normal operating conditions\n",
    "# Each row is a different gear\n",
    "time_to_fail_data = np.array([\n",
    "    10.5,\n",
    "    7.5,\n",
    "    8.1,\n",
    "    8.4,\n",
    "    11.2,\n",
    "    9.3,\n",
    "    8.9,\n",
    "    12.4\n",
    "])"
   ]
  },
  {
   "cell_type": "markdown",
   "id": "6dcbcb31",
   "metadata": {},
   "source": [
    "Here is a Weibull distribution fitted to the data using maximum likelihood:"
   ]
  },
  {
   "cell_type": "code",
   "execution_count": null,
   "id": "6dcd09c9",
   "metadata": {},
   "outputs": [],
   "source": [
    "fitted_params = st.exponweib.fit(time_to_fail_data, loc=0)\n",
    "T = st.exponweib(*fitted_params)"
   ]
  },
  {
   "cell_type": "markdown",
   "id": "410178ed",
   "metadata": {},
   "source": [
    "Let's plot the probability density of this:"
   ]
  },
  {
   "cell_type": "code",
   "execution_count": null,
   "id": "f94be95e",
   "metadata": {},
   "outputs": [],
   "source": [
    "fig, ax = plt.subplots(dpi=100)\n",
    "ts = np.linspace(0.0, 20.0, 100)\n",
    "ax.plot(ts, T.pdf(ts))\n",
    "ax.set_xlabel('$t$ (years)')\n",
    "ax.set_ylabel('$p(t)$');"
   ]
  },
  {
   "cell_type": "markdown",
   "id": "bd5985f6",
   "metadata": {},
   "source": [
    "+ Find the mean fail time and its variance.\n",
    "Hint: Do not integrate anything by hand. Just use the functionality of ``scipy.stats``."
   ]
  },
  {
   "cell_type": "code",
   "execution_count": null,
   "id": "117472e7",
   "metadata": {},
   "outputs": [],
   "source": [
    "# Your code here\n",
    "t_mean = 0.0 # Change me\n",
    "t_var = 0.0 # Change me\n",
    "print(f'E[T] = {t_mean:1.2f}')\n",
    "print(f'V[T] = {t_var:1.2f}')"
   ]
  },
  {
   "cell_type": "markdown",
   "id": "faef343c",
   "metadata": {},
   "source": [
    "+ Plot the cumulative distribution function of $T$."
   ]
  },
  {
   "cell_type": "code",
   "execution_count": null,
   "id": "f77a4a8d",
   "metadata": {},
   "outputs": [],
   "source": [
    "# Your code here"
   ]
  },
  {
   "cell_type": "markdown",
   "id": "188a8443",
   "metadata": {},
   "source": [
    "+ Plot the probability that gear survives for more than $t$ as a function of $t$.\n",
    "That is, plot the function:\n",
    "\n",
    "$$\n",
    "S(t) = p(T > t).\n",
    "$$\n",
    "\n",
    "Hint: First express this function in terms of the cumulative distribution function of $T$."
   ]
  },
  {
   "cell_type": "code",
   "execution_count": null,
   "id": "09e9668b",
   "metadata": {},
   "outputs": [],
   "source": [
    "# Your code here"
   ]
  },
  {
   "cell_type": "markdown",
   "id": "229d7050",
   "metadata": {},
   "source": [
    "+ Find the probability that the gear lasts anywhere between 8 and 10 years."
   ]
  },
  {
   "cell_type": "code",
   "execution_count": null,
   "id": "7ed38aaf",
   "metadata": {},
   "outputs": [],
   "source": [
    "# Your code here"
   ]
  },
  {
   "cell_type": "markdown",
   "id": "08d2d8ab",
   "metadata": {},
   "source": [
    "+ If you were to sell the gear, how many years \"warranty\" would you offer and why?"
   ]
  },
  {
   "cell_type": "markdown",
   "id": "65f50952",
   "metadata": {},
   "source": [
    "**Answer:**\n",
    "<br><br><br><br><br><br>"
   ]
  },
  {
   "cell_type": "markdown",
   "id": "0c027a25",
   "metadata": {},
   "source": [
    "Run the following code to convert the notebook to a pdf. Verify that the file path to the notebook is correct."
   ]
  },
  {
   "cell_type": "code",
   "execution_count": null,
   "id": "9d71b784",
   "metadata": {},
   "outputs": [],
   "source": [
    "from google.colab import drive\n",
    "drive.mount('/content/drive')\n",
    "!apt-get install inkscape texlive texlive-xetex texlive-latex-extra pandoc --quiet\n",
    "!pip install pypandoc --quiet\n",
    "!jupyter nbconvert --to PDF '/content/drive/MyDrive/Colab Notebooks/Copy of homework_13.ipynb'"
   ]
  }
 ],
 "metadata": {
  "celltoolbar": "Tags",
  "kernelspec": {
   "display_name": "Python 3",
   "language": "python",
   "name": "python3"
  },
  "language_info": {
   "codemirror_mode": {
    "name": "ipython",
    "version": 3
   },
   "file_extension": ".py",
   "mimetype": "text/x-python",
   "name": "python",
   "nbconvert_exporter": "python",
   "pygments_lexer": "ipython3",
   "version": "3.12.5"
  }
 },
 "nbformat": 4,
 "nbformat_minor": 5
}
