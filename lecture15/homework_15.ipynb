{
 "cells": [
  {
   "cell_type": "markdown",
   "id": "35658eb8",
   "metadata": {},
   "source": [
    "(lecture15:homework)=\n",
    "# Homework 15\n",
    "\n",
    "+ Type your name and email in the \"Student details\" section below.\n",
    "+ Develop the code and generate the figures you need to solve the problems using this notebook.\n",
    "+ For the answers that require a mathematical proof or derivation you can either:\n",
    "    \n",
    "    - Type the answer using the built-in latex capabilities. In this case, simply export the notebook as a pdf and upload it on gradescope; or\n",
    "    - You can print the notebook (after you are done with all the code), write your answers by hand, scan, turn your response to a single pdf, and upload on gradescope.\n",
    "\n",
    "+ The total homework points are 100. Please note that the problems are not weighed equally.\n",
    "\n",
    "```{note}\n",
    "+ Please match all the pages corresponding to each of the questions when you submit on gradescope.\n",
    "```"
   ]
  },
  {
   "cell_type": "markdown",
   "id": "f1b55919",
   "metadata": {},
   "source": [
    "## Student details\n",
    "\n",
    "+ **First Name:**\n",
    "+ **Last Name:**\n",
    "+ **Email:**"
   ]
  },
  {
   "cell_type": "code",
   "execution_count": 1,
   "id": "6492c4c0",
   "metadata": {
    "tags": [
     "hide-input",
     "hide-output"
    ]
   },
   "outputs": [
    {
     "name": "stderr",
     "output_type": "stream",
     "text": [
      "/var/folders/3n/r5vj11ss7lzcdl10vfhb_mw00000gs/T/ipykernel_24329/98432282.py:8: DeprecationWarning: `set_matplotlib_formats` is deprecated since IPython 7.23, directly use `matplotlib_inline.backend_inline.set_matplotlib_formats()`\n",
      "  set_matplotlib_formats('retina', 'svg')\n"
     ]
    }
   ],
   "source": [
    "import matplotlib.pyplot as plt\n",
    "%matplotlib inline\n",
    "import seaborn as sns\n",
    "sns.set(rc={\"figure.dpi\":100, 'savefig.dpi':300})\n",
    "sns.set_context('notebook')\n",
    "sns.set_style(\"ticks\")\n",
    "from IPython.display import set_matplotlib_formats\n",
    "set_matplotlib_formats('retina', 'svg')\n",
    "import numpy as np\n",
    "import scipy.stats as st\n",
    "import pandas as pd"
   ]
  },
  {
   "cell_type": "markdown",
   "id": "c211345a",
   "metadata": {},
   "source": [
    "## Problem 1 - Optimizing the performance of a compressor\n",
    "\n",
    "In this problem we are going to need [this](https://raw.githubusercontent.com/PurdueMechanicalEngineering/me-239-intro-to-data-science/master/data/compressor_data.xlsx) dataset. The dataset was kindly provided to us by [Professor Davide Ziviani](https://scholar.google.com/citations?user=gPdAtg0AAAAJ&hl=en).\n",
    "As before, you can either put it on your Google drive or just download it with the code segment below:"
   ]
  },
  {
   "cell_type": "code",
   "execution_count": 3,
   "id": "f5e6b242",
   "metadata": {},
   "outputs": [
    {
     "name": "stdout",
     "output_type": "stream",
     "text": [
      "  % Total    % Received % Xferd  Average Speed   Time    Time     Time  Current\n",
      "                                 Dload  Upload   Total   Spent    Left  Speed\n",
      "100 14771  100 14771    0     0  43456      0 --:--:-- --:--:-- --:--:-- 43572\n"
     ]
    }
   ],
   "source": [
    "url = 'https://raw.githubusercontent.com/PurdueMechanicalEngineering/me-239-intro-to-data-science/master/data/compressor_data.xlsx'\n",
    "!curl -O $url"
   ]
  },
  {
   "cell_type": "markdown",
   "id": "3b300932",
   "metadata": {},
   "source": [
    "Note that this is an Excell file, so we are going to need pandas to read it.\n",
    "Here is how:"
   ]
  },
  {
   "cell_type": "code",
   "execution_count": 4,
   "id": "7bedc828",
   "metadata": {},
   "outputs": [
    {
     "data": {
      "text/html": [
       "<div>\n",
       "<style scoped>\n",
       "    .dataframe tbody tr th:only-of-type {\n",
       "        vertical-align: middle;\n",
       "    }\n",
       "\n",
       "    .dataframe tbody tr th {\n",
       "        vertical-align: top;\n",
       "    }\n",
       "\n",
       "    .dataframe thead th {\n",
       "        text-align: right;\n",
       "    }\n",
       "</style>\n",
       "<table border=\"1\" class=\"dataframe\">\n",
       "  <thead>\n",
       "    <tr style=\"text-align: right;\">\n",
       "      <th></th>\n",
       "      <th>T_e</th>\n",
       "      <th>DT_sh</th>\n",
       "      <th>T_c</th>\n",
       "      <th>DT_sc</th>\n",
       "      <th>T_amb</th>\n",
       "      <th>f</th>\n",
       "      <th>m_dot</th>\n",
       "      <th>m_dot.1</th>\n",
       "      <th>Capacity</th>\n",
       "      <th>Power</th>\n",
       "      <th>Current</th>\n",
       "      <th>COP</th>\n",
       "      <th>Efficiency</th>\n",
       "    </tr>\n",
       "  </thead>\n",
       "  <tbody>\n",
       "    <tr>\n",
       "      <th>0</th>\n",
       "      <td>-30</td>\n",
       "      <td>11</td>\n",
       "      <td>25</td>\n",
       "      <td>8</td>\n",
       "      <td>35</td>\n",
       "      <td>60</td>\n",
       "      <td>28.8</td>\n",
       "      <td>8.000000</td>\n",
       "      <td>1557</td>\n",
       "      <td>901</td>\n",
       "      <td>4.4</td>\n",
       "      <td>1.73</td>\n",
       "      <td>0.467</td>\n",
       "    </tr>\n",
       "    <tr>\n",
       "      <th>1</th>\n",
       "      <td>-30</td>\n",
       "      <td>11</td>\n",
       "      <td>30</td>\n",
       "      <td>8</td>\n",
       "      <td>35</td>\n",
       "      <td>60</td>\n",
       "      <td>23.0</td>\n",
       "      <td>6.388889</td>\n",
       "      <td>1201</td>\n",
       "      <td>881</td>\n",
       "      <td>4.0</td>\n",
       "      <td>1.36</td>\n",
       "      <td>0.425</td>\n",
       "    </tr>\n",
       "    <tr>\n",
       "      <th>2</th>\n",
       "      <td>-30</td>\n",
       "      <td>11</td>\n",
       "      <td>35</td>\n",
       "      <td>8</td>\n",
       "      <td>35</td>\n",
       "      <td>60</td>\n",
       "      <td>17.9</td>\n",
       "      <td>4.972222</td>\n",
       "      <td>892</td>\n",
       "      <td>858</td>\n",
       "      <td>3.7</td>\n",
       "      <td>1.04</td>\n",
       "      <td>0.382</td>\n",
       "    </tr>\n",
       "    <tr>\n",
       "      <th>3</th>\n",
       "      <td>-25</td>\n",
       "      <td>11</td>\n",
       "      <td>25</td>\n",
       "      <td>8</td>\n",
       "      <td>35</td>\n",
       "      <td>60</td>\n",
       "      <td>46.4</td>\n",
       "      <td>12.888889</td>\n",
       "      <td>2509</td>\n",
       "      <td>1125</td>\n",
       "      <td>5.3</td>\n",
       "      <td>2.23</td>\n",
       "      <td>0.548</td>\n",
       "    </tr>\n",
       "    <tr>\n",
       "      <th>4</th>\n",
       "      <td>-25</td>\n",
       "      <td>11</td>\n",
       "      <td>30</td>\n",
       "      <td>8</td>\n",
       "      <td>35</td>\n",
       "      <td>60</td>\n",
       "      <td>40.2</td>\n",
       "      <td>11.166667</td>\n",
       "      <td>2098</td>\n",
       "      <td>1122</td>\n",
       "      <td>5.1</td>\n",
       "      <td>1.87</td>\n",
       "      <td>0.519</td>\n",
       "    </tr>\n",
       "    <tr>\n",
       "      <th>...</th>\n",
       "      <td>...</td>\n",
       "      <td>...</td>\n",
       "      <td>...</td>\n",
       "      <td>...</td>\n",
       "      <td>...</td>\n",
       "      <td>...</td>\n",
       "      <td>...</td>\n",
       "      <td>...</td>\n",
       "      <td>...</td>\n",
       "      <td>...</td>\n",
       "      <td>...</td>\n",
       "      <td>...</td>\n",
       "      <td>...</td>\n",
       "    </tr>\n",
       "    <tr>\n",
       "      <th>60</th>\n",
       "      <td>10</td>\n",
       "      <td>11</td>\n",
       "      <td>45</td>\n",
       "      <td>8</td>\n",
       "      <td>35</td>\n",
       "      <td>60</td>\n",
       "      <td>245.2</td>\n",
       "      <td>68.111111</td>\n",
       "      <td>12057</td>\n",
       "      <td>2525</td>\n",
       "      <td>11.3</td>\n",
       "      <td>4.78</td>\n",
       "      <td>0.722</td>\n",
       "    </tr>\n",
       "    <tr>\n",
       "      <th>61</th>\n",
       "      <td>10</td>\n",
       "      <td>11</td>\n",
       "      <td>50</td>\n",
       "      <td>8</td>\n",
       "      <td>35</td>\n",
       "      <td>60</td>\n",
       "      <td>234.1</td>\n",
       "      <td>65.027778</td>\n",
       "      <td>10939</td>\n",
       "      <td>2740</td>\n",
       "      <td>12.3</td>\n",
       "      <td>3.99</td>\n",
       "      <td>0.719</td>\n",
       "    </tr>\n",
       "    <tr>\n",
       "      <th>62</th>\n",
       "      <td>10</td>\n",
       "      <td>11</td>\n",
       "      <td>55</td>\n",
       "      <td>8</td>\n",
       "      <td>35</td>\n",
       "      <td>60</td>\n",
       "      <td>222.2</td>\n",
       "      <td>61.722222</td>\n",
       "      <td>9819</td>\n",
       "      <td>2929</td>\n",
       "      <td>13.1</td>\n",
       "      <td>3.35</td>\n",
       "      <td>0.709</td>\n",
       "    </tr>\n",
       "    <tr>\n",
       "      <th>63</th>\n",
       "      <td>10</td>\n",
       "      <td>11</td>\n",
       "      <td>60</td>\n",
       "      <td>8</td>\n",
       "      <td>35</td>\n",
       "      <td>60</td>\n",
       "      <td>209.3</td>\n",
       "      <td>58.138889</td>\n",
       "      <td>8697</td>\n",
       "      <td>3091</td>\n",
       "      <td>13.7</td>\n",
       "      <td>2.81</td>\n",
       "      <td>0.693</td>\n",
       "    </tr>\n",
       "    <tr>\n",
       "      <th>64</th>\n",
       "      <td>10</td>\n",
       "      <td>11</td>\n",
       "      <td>65</td>\n",
       "      <td>8</td>\n",
       "      <td>35</td>\n",
       "      <td>60</td>\n",
       "      <td>195.4</td>\n",
       "      <td>54.277778</td>\n",
       "      <td>7575</td>\n",
       "      <td>3223</td>\n",
       "      <td>14.2</td>\n",
       "      <td>2.35</td>\n",
       "      <td>0.672</td>\n",
       "    </tr>\n",
       "  </tbody>\n",
       "</table>\n",
       "<p>65 rows × 13 columns</p>\n",
       "</div>"
      ],
      "text/plain": [
       "    T_e  DT_sh   T_c  DT_sc  T_amb   f  m_dot    m_dot.1  Capacity  Power  \\\n",
       "0   -30      11   25      8     35  60   28.8   8.000000      1557    901   \n",
       "1   -30      11   30      8     35  60   23.0   6.388889      1201    881   \n",
       "2   -30      11   35      8     35  60   17.9   4.972222       892    858   \n",
       "3   -25      11   25      8     35  60   46.4  12.888889      2509   1125   \n",
       "4   -25      11   30      8     35  60   40.2  11.166667      2098   1122   \n",
       "..  ...     ...  ...    ...    ...  ..    ...        ...       ...    ...   \n",
       "60   10      11   45      8     35  60  245.2  68.111111     12057   2525   \n",
       "61   10      11   50      8     35  60  234.1  65.027778     10939   2740   \n",
       "62   10      11   55      8     35  60  222.2  61.722222      9819   2929   \n",
       "63   10      11   60      8     35  60  209.3  58.138889      8697   3091   \n",
       "64   10      11   65      8     35  60  195.4  54.277778      7575   3223   \n",
       "\n",
       "    Current   COP  Efficiency  \n",
       "0       4.4  1.73       0.467  \n",
       "1       4.0  1.36       0.425  \n",
       "2       3.7  1.04       0.382  \n",
       "3       5.3  2.23       0.548  \n",
       "4       5.1  1.87       0.519  \n",
       "..      ...   ...         ...  \n",
       "60     11.3  4.78       0.722  \n",
       "61     12.3  3.99       0.719  \n",
       "62     13.1  3.35       0.709  \n",
       "63     13.7  2.81       0.693  \n",
       "64     14.2  2.35       0.672  \n",
       "\n",
       "[65 rows x 13 columns]"
      ]
     },
     "execution_count": 4,
     "metadata": {},
     "output_type": "execute_result"
    }
   ],
   "source": [
    "import pandas as pd\n",
    "data = pd.read_excel('compressor_data.xlsx')\n",
    "data"
   ]
  },
  {
   "cell_type": "markdown",
   "id": "48aeced6",
   "metadata": {},
   "source": [
    "The data are part of a an experimental study of a variable speed reciprocating compressor.\n",
    "The experimentalists varied two temperatures $T_e$ and $T_c$ (both in C) and they measured various other quantities.\n",
    "Our goal is to learn the map between $T_e$ and $T_c$ and measured Capacity and Power (both in W).\n",
    "First, let's see how you can extract only the relevant data."
   ]
  },
  {
   "cell_type": "code",
   "execution_count": 4,
   "id": "9e6a1cc4",
   "metadata": {
    "tags": [
     "hide-output"
    ]
   },
   "outputs": [
    {
     "data": {
      "text/plain": [
       "array([[-30,  25],\n",
       "       [-30,  30],\n",
       "       [-30,  35],\n",
       "       [-25,  25],\n",
       "       [-25,  30],\n",
       "       [-25,  35],\n",
       "       [-25,  40],\n",
       "       [-25,  45],\n",
       "       [-20,  25],\n",
       "       [-20,  30],\n",
       "       [-20,  35],\n",
       "       [-20,  40],\n",
       "       [-20,  45],\n",
       "       [-20,  50],\n",
       "       [-15,  25],\n",
       "       [-15,  30],\n",
       "       [-15,  35],\n",
       "       [-15,  40],\n",
       "       [-15,  45],\n",
       "       [-15,  50],\n",
       "       [-15,  55],\n",
       "       [-10,  25],\n",
       "       [-10,  30],\n",
       "       [-10,  35],\n",
       "       [-10,  40],\n",
       "       [-10,  45],\n",
       "       [-10,  50],\n",
       "       [-10,  55],\n",
       "       [-10,  60],\n",
       "       [ -5,  25],\n",
       "       [ -5,  30],\n",
       "       [ -5,  35],\n",
       "       [ -5,  40],\n",
       "       [ -5,  45],\n",
       "       [ -5,  50],\n",
       "       [ -5,  55],\n",
       "       [ -5,  60],\n",
       "       [ -5,  65],\n",
       "       [  0,  25],\n",
       "       [  0,  30],\n",
       "       [  0,  35],\n",
       "       [  0,  40],\n",
       "       [  0,  45],\n",
       "       [  0,  50],\n",
       "       [  0,  55],\n",
       "       [  0,  60],\n",
       "       [  0,  65],\n",
       "       [  5,  25],\n",
       "       [  5,  30],\n",
       "       [  5,  35],\n",
       "       [  5,  40],\n",
       "       [  5,  45],\n",
       "       [  5,  50],\n",
       "       [  5,  55],\n",
       "       [  5,  60],\n",
       "       [  5,  65],\n",
       "       [ 10,  25],\n",
       "       [ 10,  30],\n",
       "       [ 10,  35],\n",
       "       [ 10,  40],\n",
       "       [ 10,  45],\n",
       "       [ 10,  50],\n",
       "       [ 10,  55],\n",
       "       [ 10,  60],\n",
       "       [ 10,  65]])"
      ]
     },
     "execution_count": 4,
     "metadata": {},
     "output_type": "execute_result"
    }
   ],
   "source": [
    "# Here is how to extract the T_e and T_c columns and put them in a single numpy array\n",
    "X = data[['T_e','T_c']].values\n",
    "X"
   ]
  },
  {
   "cell_type": "code",
   "execution_count": 5,
   "id": "82079b40",
   "metadata": {
    "tags": [
     "hide-output"
    ]
   },
   "outputs": [
    {
     "data": {
      "text/plain": [
       "array([ 1557,  1201,   892,  2509,  2098,  1726,  1398,  1112,  3684,\n",
       "        3206,  2762,  2354,  1981,  1647,  5100,  4547,  4019,  3520,\n",
       "        3050,  2612,  2206,  6777,  6137,  5516,  4915,  4338,  3784,\n",
       "        3256,  2755,  8734,  7996,  7271,  6559,  5863,  5184,  4524,\n",
       "        3883,  3264, 10989, 10144,  9304,  8471,  7646,  6831,  6027,\n",
       "        5237,  4461, 13562, 12599, 11633, 10668,  9704,  8743,  7786,\n",
       "        6835,  5891, 16472, 15380, 14279, 13171, 12057, 10939,  9819,\n",
       "        8697,  7575])"
      ]
     },
     "execution_count": 5,
     "metadata": {},
     "output_type": "execute_result"
    }
   ],
   "source": [
    "# Here is how to extract the Capacity\n",
    "y = data['Capacity'].values\n",
    "y"
   ]
  },
  {
   "cell_type": "markdown",
   "id": "f1c40fb5",
   "metadata": {},
   "source": [
    "Fit the following multivariate polynomial model to **both the Capacity and the Power**:\n",
    "\n",
    "$$\n",
    "y = w_1 + w_2T_e + w_3 T_c + w_4 T_eT_c + w_5 T_e^2 + w_6T_c^2 + w_7 T_e^2T_c + w_8T_eT_c^2 + w_9 T_e^3 + w_{10}T_c^3 + \\epsilon,\n",
    "$$\n",
    "\n",
    "where $\\epsilon$ is a Gaussian noise term with unknown variance.\n",
    "\n",
    "**Hints:**\n",
    "+ You may use [sklearn.preprocessing.PolynomialFeatures](https://scikit-learn.org/stable/modules/generated/sklearn.preprocessing.PolynomialFeatures.html) to construct the design matrix of your polynomial features. Do not program the design matrix by hand.\n",
    "+ You should split your data into training and test and use various diagnostics to make sure that your models make sense."
   ]
  },
  {
   "cell_type": "markdown",
   "id": "5f947c25",
   "metadata": {},
   "source": [
    "### Part A - Fit the capacity\n",
    "\n",
    "Please don't just fit blindly. Split in training and test and use all the usual diagnostics."
   ]
  },
  {
   "cell_type": "code",
   "execution_count": null,
   "id": "e7d207e3",
   "metadata": {},
   "outputs": [],
   "source": [
    "# For polynomial features\n",
    "from sklearn.preprocessing import PolynomialFeatures\n",
    "# For splitting the data\n",
    "from sklearn.model_selection import train_test_split\n",
    "# Split the data\n",
    "X_train, X_test, y_train, y_test = train_test_split(X, y, test_size=0.33)\n",
    "# Here is how to make Polynomials features\n",
    "poly = PolynomialFeatures(degree=3)\n",
    "# Design matrix for train data\n",
    "Phi_train = poly.fit_transform(X_train)\n",
    "# Fit with Bayesian Ridge - Use normalize=True to let BayesianRidge\n",
    "# scale the inputs and outputs to reasonable values (it will subtract their empirical mean\n",
    "# and divide by their empirical standard deviation)\n",
    "# Your code here"
   ]
  },
  {
   "cell_type": "markdown",
   "id": "02bab9e7",
   "metadata": {},
   "source": [
    "The mean square error:"
   ]
  },
  {
   "cell_type": "code",
   "execution_count": null,
   "id": "a73583f9",
   "metadata": {},
   "outputs": [],
   "source": [
    "# your code here"
   ]
  },
  {
   "cell_type": "markdown",
   "id": "94aabe6a",
   "metadata": {},
   "source": [
    "The coefficient of determination R2:"
   ]
  },
  {
   "cell_type": "code",
   "execution_count": null,
   "id": "6a56d04f",
   "metadata": {},
   "outputs": [],
   "source": [
    "# your code here"
   ]
  },
  {
   "cell_type": "markdown",
   "id": "ca42c287",
   "metadata": {},
   "source": [
    "The observations vs predictions plot:"
   ]
  },
  {
   "cell_type": "code",
   "execution_count": null,
   "id": "50f760b7",
   "metadata": {},
   "outputs": [],
   "source": [
    "# your code here"
   ]
  },
  {
   "cell_type": "markdown",
   "id": "41719400",
   "metadata": {},
   "source": [
    "Would you trust your model? Explain your answer."
   ]
  },
  {
   "cell_type": "markdown",
   "id": "7258ffb3",
   "metadata": {},
   "source": [
    "*your comments here*"
   ]
  },
  {
   "cell_type": "markdown",
   "id": "253ad21a",
   "metadata": {},
   "source": [
    "### Part B - Fit the power\n",
    "\n",
    "Repeat what you did above."
   ]
  },
  {
   "cell_type": "code",
   "execution_count": null,
   "id": "c2188350",
   "metadata": {},
   "outputs": [],
   "source": [
    "# your code here (use as many code and text blocks as you like)"
   ]
  },
  {
   "cell_type": "markdown",
   "id": "abb73e86",
   "metadata": {},
   "source": [
    "Run the following code to convert the notebook to a pdf. Verify that the file path to the notebook is correct."
   ]
  },
  {
   "cell_type": "code",
   "execution_count": null,
   "id": "f976af6d",
   "metadata": {},
   "outputs": [],
   "source": [
    "from google.colab import drive\n",
    "drive.mount('/content/drive')\n",
    "!apt-get install inkscape texlive texlive-xetex texlive-latex-extra pandoc --quiet\n",
    "!pip install pypandoc --quiet\n",
    "!jupyter nbconvert --to PDF '/content/drive/MyDrive/Colab Notebooks/Copy of homework_15.ipynb'"
   ]
  }
 ],
 "metadata": {
  "celltoolbar": "Tags",
  "kernelspec": {
   "display_name": "Python 3",
   "language": "python",
   "name": "python3"
  },
  "language_info": {
   "codemirror_mode": {
    "name": "ipython",
    "version": 3
   },
   "file_extension": ".py",
   "mimetype": "text/x-python",
   "name": "python",
   "nbconvert_exporter": "python",
   "pygments_lexer": "ipython3",
   "version": "3.12.5"
  }
 },
 "nbformat": 4,
 "nbformat_minor": 5
}
