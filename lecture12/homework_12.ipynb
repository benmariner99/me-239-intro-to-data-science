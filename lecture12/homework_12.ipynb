{
 "cells": [
  {
   "cell_type": "markdown",
   "id": "78aa18a9",
   "metadata": {},
   "source": [
    "(lecture12:homework)=\n",
    "# Homework 12\n",
    "\n",
    "+ Type your name and email in the \"Student details\" section below.\n",
    "+ Develop the code and generate the figures you need to solve the problems using this notebook.\n",
    "+ For the answers that require a mathematical proof or derivation you can either:\n",
    "    \n",
    "    - Type the answer using the built-in latex capabilities. In this case, simply export the notebook as a pdf and upload it on gradescope; or\n",
    "    - You can print the notebook (after you are done with all the code), write your answers by hand, scan, turn your response to a single pdf, and upload on gradescope.\n",
    "\n",
    "+ The total homework points are 100. Please note that the problems are not weighed equally.\n",
    "\n",
    "```{note}\n",
    "+ Please match all the pages corresponding to each of the questions when you submit on gradescope.\n",
    "```"
   ]
  },
  {
   "cell_type": "markdown",
   "id": "da34e123",
   "metadata": {},
   "source": [
    "## Student details\n",
    "\n",
    "+ **First Name:**\n",
    "+ **Last Name:**\n",
    "+ **Email:**"
   ]
  },
  {
   "cell_type": "code",
   "execution_count": null,
   "id": "cc69f7e3",
   "metadata": {
    "tags": [
     "hide-input",
     "hide-output"
    ]
   },
   "outputs": [],
   "source": [
    "import matplotlib.pyplot as plt\n",
    "%matplotlib inline\n",
    "import seaborn as sns\n",
    "sns.set(rc={\"figure.dpi\":100, 'savefig.dpi':300})\n",
    "sns.set_context('notebook')\n",
    "sns.set_style(\"ticks\")\n",
    "from IPython.display import set_matplotlib_formats\n",
    "set_matplotlib_formats('retina', 'svg')\n",
    "import numpy as np\n",
    "import scipy.stats as st"
   ]
  },
  {
   "cell_type": "markdown",
   "id": "ea8c3788",
   "metadata": {},
   "source": [
    "(lecture12:homework:problem2)=\n",
    "## Problem 1 - Comparing performance of robotic systems\n",
    "\n",
    "You are considering purchasing a robotic system for manufacturing masks.\n",
    "There are two possibilities, say $A$ and $B$.\n",
    "They both produce the same number of masks per day, they cost the same to purchase, and the have the same power and supply costs.\n",
    "However, they are not identical. They have different faulty mask rates.\n",
    "Let $X_A$ and $X_B$ be the number of faulty masks you get from each system, respectively, in a given day.\n",
    "For each of the possibilities below:\n",
    "\n",
    "1) Use `scipy.stats` to make two Normal random variables $X_A$ and $X_B$ with the right mean and variance.\n",
    "\n",
    "2) Plot the PDF of the random variables in the same figure.\n",
    "\n",
    "3) Find a 95% central credible interval.\n",
    "\n",
    "3) Indicate which robotic system you would buy and why (three choices $A$, $B$, and ``I cannot choose'').\n",
    "\n",
    "\n",
    "+ **Case 1:** $\\mathbf{E}[X_A] = 1, \\mathbf{V}[X_A] = 0.1$ and $\\mathbf{E}[X_B] = 1, \\mathbf{V}[X_B] = 0.2$.\n",
    "\n",
    "**Answer:**"
   ]
  },
  {
   "cell_type": "code",
   "execution_count": null,
   "id": "dacef115",
   "metadata": {},
   "outputs": [],
   "source": [
    "# Make the random variables here\n",
    "XA = st.norm(loc=#YOUR CHOICE,\n",
    "             scale=#YOUR CHOICE)\n",
    "XB = # YOUR CODE"
   ]
  },
  {
   "cell_type": "code",
   "execution_count": null,
   "id": "9e9bd965",
   "metadata": {},
   "outputs": [],
   "source": [
    "# Plot the PDF's here"
   ]
  },
  {
   "cell_type": "code",
   "execution_count": null,
   "id": "e231aa66",
   "metadata": {},
   "outputs": [],
   "source": [
    "# Find the 95% central credible interval for XA here"
   ]
  },
  {
   "cell_type": "code",
   "execution_count": null,
   "id": "327837ad",
   "metadata": {},
   "outputs": [],
   "source": [
    "# Find the 95% central credible interval for XB here"
   ]
  },
  {
   "cell_type": "markdown",
   "id": "dab4c33f",
   "metadata": {},
   "source": [
    "*Your answer to which one you would buy and why here.*"
   ]
  },
  {
   "cell_type": "markdown",
   "id": "8593ba96",
   "metadata": {},
   "source": [
    "+ **Case 2:** $\\mathbf{E}[X_A] = 1, \\mathbf{V}[X_A] = 0.1$ and $\\mathbf{E}[X_B] = 2, \\mathbf{V}[X_B] = 0.1$.\n",
    "\n",
    "**Answer:**"
   ]
  },
  {
   "cell_type": "code",
   "execution_count": null,
   "id": "cd0b29b0",
   "metadata": {},
   "outputs": [],
   "source": [
    "# Make the random variables here"
   ]
  },
  {
   "cell_type": "code",
   "execution_count": null,
   "id": "4a54c7c7",
   "metadata": {},
   "outputs": [],
   "source": [
    "# Plot the PDF's here"
   ]
  },
  {
   "cell_type": "code",
   "execution_count": null,
   "id": "01665779",
   "metadata": {},
   "outputs": [],
   "source": [
    "# Find the 95% central credible interval for XA here"
   ]
  },
  {
   "cell_type": "code",
   "execution_count": null,
   "id": "80745951",
   "metadata": {},
   "outputs": [],
   "source": [
    "# Find the 95% central credible interval for XB here"
   ]
  },
  {
   "cell_type": "markdown",
   "id": "06c7e3f9",
   "metadata": {},
   "source": [
    "*Your answer to which one you would buy and why here.*"
   ]
  },
  {
   "cell_type": "markdown",
   "id": "6825ce0d",
   "metadata": {},
   "source": [
    "+ **Case 3:** $\\mathbf{E}[X_A] = 1, \\mathbf{V}[X_A] = 0.3$ and $\\mathbf{E}[X_B] = 1.1, \\mathbf{V}[X_B] = 0.1$.\n",
    "\n",
    "**Answer:**"
   ]
  },
  {
   "cell_type": "code",
   "execution_count": null,
   "id": "3b43bcf7",
   "metadata": {},
   "outputs": [],
   "source": [
    "# Make the random variables here"
   ]
  },
  {
   "cell_type": "code",
   "execution_count": null,
   "id": "c0db801d",
   "metadata": {},
   "outputs": [],
   "source": [
    "# Plot the PDF's here"
   ]
  },
  {
   "cell_type": "code",
   "execution_count": null,
   "id": "cbd4586c",
   "metadata": {},
   "outputs": [],
   "source": [
    "# Find the 95% central credible interval for XA here"
   ]
  },
  {
   "cell_type": "code",
   "execution_count": null,
   "id": "de37069d",
   "metadata": {},
   "outputs": [],
   "source": [
    "# Find the 95% central credible interval for XA here"
   ]
  },
  {
   "cell_type": "markdown",
   "id": "94465a0b",
   "metadata": {},
   "source": [
    "*Your answer to which one you would buy and why here.*"
   ]
  },
  {
   "cell_type": "markdown",
   "id": "6b8b9ee8",
   "metadata": {},
   "source": [
    "## Problem 2 - Figuring out which household conserves less energy\n",
    "\n",
    "In this homework problem, we are going to look at a dataset for which the Normal is not a good fit.\n",
    "In particular, we are going to look at HVAC energy consumption in our high-performance building data."
   ]
  },
  {
   "cell_type": "code",
   "execution_count": null,
   "id": "1da4dd66",
   "metadata": {},
   "outputs": [],
   "source": [
    "import requests\n",
    "import os\n",
    "   \n",
    "# The url of the file we want to download\n",
    "url = 'https://raw.githubusercontent.com/PurdueMechanicalEngineering/me-297-intro-to-data-science/master/data/temperature_raw.xlsx'\n",
    "!curl -O $url\n",
    "\n",
    "import numpy as np\n",
    "import pandas as pd\n",
    "df = pd.read_excel('temperature_raw.xlsx')\n",
    "df = df.dropna(axis=0)\n",
    "df.date = pd.to_datetime(df['date'], format='%Y-%m-%d')\n",
    "df"
   ]
  },
  {
   "cell_type": "markdown",
   "id": "b642f1f7",
   "metadata": {},
   "source": [
    "+ Extract the `hvac` column for household `a5`:"
   ]
  },
  {
   "cell_type": "code",
   "execution_count": null,
   "id": "5bbbd779",
   "metadata": {},
   "outputs": [],
   "source": [
    "hvac_a5 = df[df['household'] = <your-code>][<your-code>] # This does not work, you need to write your own code"
   ]
  },
  {
   "cell_type": "markdown",
   "id": "03ec2314",
   "metadata": {},
   "source": [
    "+ Do the histogram of `hvac` for household `a5`:"
   ]
  },
  {
   "cell_type": "code",
   "execution_count": null,
   "id": "1dd769c1",
   "metadata": {},
   "outputs": [],
   "source": [
    "# Your code here"
   ]
  },
  {
   "cell_type": "markdown",
   "id": "3db7ce42",
   "metadata": {},
   "source": [
    "+ Use the method of moments to fit a Normal distribution to the `hvac` data for household `a5`:"
   ]
  },
  {
   "cell_type": "code",
   "execution_count": null,
   "id": "cc358c63",
   "metadata": {},
   "outputs": [],
   "source": [
    "# Your code here\n",
    "HVAC_a5 = st.norm(loc=<your-code>, scale=<your-code>) # This does not work, you need to write your own code"
   ]
  },
  {
   "cell_type": "markdown",
   "id": "9632bad2",
   "metadata": {},
   "source": [
    "+ In the same figure, show the histogram of `hvac` data for household `a5` (use `density=True` to make sure itis normalized) and the PDF of the Normal you just fitted.\n",
    "Is this a good fit? Why do you think we do not get a good fit?"
   ]
  },
  {
   "cell_type": "code",
   "execution_count": null,
   "id": "8cac7d44",
   "metadata": {},
   "outputs": [],
   "source": [
    "# Your code here"
   ]
  },
  {
   "cell_type": "markdown",
   "id": "82c78f29",
   "metadata": {},
   "source": [
    "*Your answer here.*"
   ]
  },
  {
   "cell_type": "markdown",
   "id": "9a30d801",
   "metadata": {},
   "source": [
    "+ Now I am asking you to transform the data in a way that will make them look more Normal.\n",
    "Do the histogram of the logarithm of the `hvac` data for household `a5`:"
   ]
  },
  {
   "cell_type": "code",
   "execution_count": null,
   "id": "d3abdab0",
   "metadata": {},
   "outputs": [],
   "source": [
    "# your code here"
   ]
  },
  {
   "cell_type": "markdown",
   "id": "82b9db80",
   "metadata": {},
   "source": [
    "+ Fit a Normal to the logarithm of the `hvac` data for household `a5`:"
   ]
  },
  {
   "cell_type": "code",
   "execution_count": null,
   "id": "bab01146",
   "metadata": {},
   "outputs": [],
   "source": [
    "# your code here"
   ]
  },
  {
   "cell_type": "markdown",
   "id": "2571535a",
   "metadata": {},
   "source": [
    "+ In the same figure, show the histogram of the **logarithm** of the `hvac` data for household `a5` and the PDF of the Normal you just fitted. Does this look like a good fit?"
   ]
  },
  {
   "cell_type": "code",
   "execution_count": null,
   "id": "b9b19d35",
   "metadata": {},
   "outputs": [],
   "source": [
    "# Your code here"
   ]
  },
  {
   "cell_type": "markdown",
   "id": "e420afd3",
   "metadata": {},
   "source": [
    "*Your answer here.*"
   ]
  },
  {
   "cell_type": "markdown",
   "id": "10b5d0c6",
   "metadata": {},
   "source": [
    "+ Now do exactly the same thing as the previous bullet point for household `a3`."
   ]
  },
  {
   "cell_type": "code",
   "execution_count": null,
   "id": "d5a907b0",
   "metadata": {},
   "outputs": [],
   "source": [
    "# Your code here - as many blocks as you like"
   ]
  },
  {
   "cell_type": "markdown",
   "id": "2917eba4",
   "metadata": {},
   "source": [
    "+ Which household consumes more energy, `a5` or `a3`?"
   ]
  },
  {
   "cell_type": "code",
   "execution_count": null,
   "id": "f7af6614",
   "metadata": {},
   "outputs": [],
   "source": [
    "# Your code here - if needed"
   ]
  },
  {
   "cell_type": "markdown",
   "id": "ff672800",
   "metadata": {},
   "source": [
    "*Your answer here.*"
   ]
  },
  {
   "cell_type": "markdown",
   "id": "9bd4a659",
   "metadata": {},
   "source": [
    "## Problem 3 - Introducing the Log-Normal distribution\n",
    "\n",
    "In the previous problem, we took the logarithm of `hvac` in order to obtain a better fit to the Normal.\n",
    "It turns out that this is a very common practice whenever you have a positive dataset that is skewed in the way we noticed above.\n",
    "As a matter of fact, there is a distribution called the [Log-Normal distribution](https://en.wikipedia.org/wiki/Log-normal_distribution) which is designed to do exactly that.\n",
    "Below, I show you could have fitted a Log-Normal distribution directly on the `hvac` data."
   ]
  },
  {
   "cell_type": "code",
   "execution_count": null,
   "id": "3184049a",
   "metadata": {},
   "outputs": [],
   "source": [
    "params = st.lognorm.fit(hvac_a5) # This does something similar to the method of moments\n",
    "HVAC_a5_ln = st.lognorm(*params) # This is the random varibale\n",
    "# Here is how you can sample from it:\n",
    "HVAC_a5_ln.rvs(size=10)"
   ]
  },
  {
   "cell_type": "code",
   "execution_count": null,
   "id": "1e9a3b5b",
   "metadata": {},
   "outputs": [],
   "source": [
    "# Here is how you can evaluate its PDF:\n",
    "HVAC_a5_ln.pdf(200)"
   ]
  },
  {
   "cell_type": "markdown",
   "id": "d43f72d7",
   "metadata": {},
   "source": [
    "+ In the same figure, plot the PDF of the Log-normal along with the histogram of the `hvac` data for `a5`."
   ]
  },
  {
   "cell_type": "code",
   "execution_count": null,
   "id": "a94f2596",
   "metadata": {},
   "outputs": [],
   "source": [
    "# Your code here - Plot the PDF of HVAC_a5_ln along with the histogram of hvac_a5."
   ]
  },
  {
   "cell_type": "markdown",
   "id": "dad641ac",
   "metadata": {},
   "source": [
    "+ Is the fit with Log-Normal good?"
   ]
  },
  {
   "cell_type": "markdown",
   "id": "c36df24b",
   "metadata": {},
   "source": [
    "*Your answer here.*"
   ]
  },
  {
   "cell_type": "markdown",
   "id": "66608aa3",
   "metadata": {},
   "source": [
    "+ Recall how in [](lecture12:standard-normal-quantiles) we used the `ppf()` function of a random variable to find quantiles.\n",
    "Use this function to find the 0.025-quantile of the Log-Normal we constructed above."
   ]
  },
  {
   "cell_type": "code",
   "execution_count": null,
   "id": "682eaf27",
   "metadata": {},
   "outputs": [],
   "source": [
    "# Your code here"
   ]
  },
  {
   "cell_type": "markdown",
   "id": "89a0dd87",
   "metadata": {},
   "source": [
    "+ Now find the 95% central credible interval of the Log-Normal variable we constructed above."
   ]
  },
  {
   "cell_type": "code",
   "execution_count": null,
   "id": "95ce90ca",
   "metadata": {},
   "outputs": [],
   "source": [
    "# Your code here"
   ]
  },
  {
   "cell_type": "markdown",
   "id": "9b3e20ba",
   "metadata": {},
   "source": [
    "+ Repeat as many code-blocks as you need to fit a Log-Normal to the `hvac` data for household `a3` and then find the 95% central credible interval of the resulting random variable."
   ]
  },
  {
   "cell_type": "code",
   "execution_count": null,
   "id": "5a159579",
   "metadata": {},
   "outputs": [],
   "source": [
    "# Your code here"
   ]
  },
  {
   "cell_type": "markdown",
   "id": "0ee60bfd",
   "metadata": {},
   "source": [
    "+ By comparing the 95% central credible intervals constructed above, which household `a5` or `a3` consumes more energy?"
   ]
  },
  {
   "cell_type": "markdown",
   "id": "dd5a15d4",
   "metadata": {},
   "source": [
    "*Your answer here.*"
   ]
  },
  {
   "cell_type": "code",
   "execution_count": null,
   "id": "6d52d169",
   "metadata": {},
   "outputs": [],
   "source": []
  },
  {
   "cell_type": "markdown",
   "id": "6fcb9452",
   "metadata": {},
   "source": [
    "Run the following code to convert the notebook to a pdf. Verify that the file path to the notebook is correct."
   ]
  },
  {
   "cell_type": "code",
   "execution_count": null,
   "id": "ffe73a88",
   "metadata": {},
   "outputs": [],
   "source": [
    "from google.colab import drive\n",
    "drive.mount('/content/drive')\n",
    "!apt-get install inkscape texlive texlive-xetex texlive-latex-extra pandoc --quiet\n",
    "!pip install pypandoc --quiet\n",
    "!jupyter nbconvert --to PDF '/content/drive/MyDrive/Colab Notebooks/Copy of homework_12.ipynb'"
   ]
  }
 ],
 "metadata": {
  "celltoolbar": "Tags",
  "kernelspec": {
   "display_name": "Python 3",
   "language": "python",
   "name": "python3"
  },
  "language_info": {
   "codemirror_mode": {
    "name": "ipython",
    "version": 3
   },
   "file_extension": ".py",
   "mimetype": "text/x-python",
   "name": "python",
   "nbconvert_exporter": "python",
   "pygments_lexer": "ipython3",
   "version": "3.8.8"
  }
 },
 "nbformat": 4,
 "nbformat_minor": 5
}
